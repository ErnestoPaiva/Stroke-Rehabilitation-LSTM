{
  "nbformat": 4,
  "nbformat_minor": 0,
  "metadata": {
    "colab": {
      "name": "Features Wav - Stats.ipynb",
      "provenance": [],
      "collapsed_sections": []
    },
    "kernelspec": {
      "name": "python3",
      "display_name": "Python 3"
    },
    "language_info": {
      "name": "python"
    },
    "accelerator": "GPU"
  },
  "cells": [
    {
      "cell_type": "code",
      "metadata": {
        "id": "cdJONGq2qG5q"
      },
      "source": [
        "# -*- coding: utf-8 -*-\n",
        "\"\"\"\n",
        "This takes the data for one ppt in one session and organises it into\n",
        "two arrays, one for left and one for right motor imagery data. \n",
        "All data not related to the MI trials is disregarded.\n",
        "\"\"\"\n",
        "import numpy as np\n",
        "import glob\n",
        "import tensorflow as tf\n",
        "from sklearn.preprocessing import MinMaxScaler\n",
        "from tensorflow.keras.activations import sigmoid, relu\n",
        "from tensorflow.keras.layers import Dense, Dropout\n",
        "\n",
        "import scipy.io as spio\n",
        "import matplotlib.pyplot as plt\n"
      ],
      "execution_count": null,
      "outputs": []
    },
    {
      "cell_type": "code",
      "metadata": {
        "id": "g8I_WRDeOZZC"
      },
      "source": [
        "def figure(History, legend):\n",
        "  ####################### PLOT TRAINING VS VALIDATION ######################\n",
        "  ########## Accuracy ###########\n",
        "  acc = History.history['acc']\n",
        "  val_acc = History.history['val_acc']\n",
        "  loss = History.history['loss']\n",
        "  val_loss = History.history['val_loss']\n",
        "\n",
        "  plt.plot(acc)\n",
        "  plt.plot(val_acc)\n",
        "  plt.title('model accuracy')\n",
        "  plt.ylabel('accuracy')\n",
        "  plt.xlabel('epoch')\n",
        "  plt.legend(legend, loc='upper left')\n",
        "  plt.grid()\n",
        "  plt.show()\n",
        "\n",
        "  ########## Loss ###########\n",
        "  plt.plot(loss)\n",
        "  plt.plot(val_loss)\n",
        "  plt.title('model loss')\n",
        "  plt.ylabel('loss')\n",
        "  plt.xlabel('epoch')\n",
        "  try:\n",
        "    loss_no_reg = History.history['categorical_crossentropy']\n",
        "    val_loss_no_reg = History.history['val_categorical_crossentropy']\n",
        "    plt.plot(loss_no_reg)\n",
        "    plt.plot(val_loss_no_reg)\n",
        "    plt.legend(legend + [legend[0]+' sin reg', legend[1]+' sin reg'], loc='upper left')\n",
        "  except:\n",
        "    plt.legend(legend, loc='upper left')\n",
        "\n",
        "  plt.grid()\n",
        "  plt.show()"
      ],
      "execution_count": null,
      "outputs": []
    },
    {
      "cell_type": "code",
      "metadata": {
        "colab": {
          "resources": {
            "http://localhost:8080/nbextensions/google.colab/files.js": {
              "data": "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",
              "ok": true,
              "headers": [
                [
                  "content-type",
                  "application/javascript"
                ]
              ],
              "status": 200,
              "status_text": ""
            }
          },
          "base_uri": "https://localhost:8080/",
          "height": 143
        },
        "id": "Osbs-jT8qH1J",
        "outputId": "ce9f87a8-0d2e-4c07-a8ce-8c6bedde29a0"
      },
      "source": [
        "from google.colab import files\n",
        "uploaded = files.upload()"
      ],
      "execution_count": null,
      "outputs": [
        {
          "output_type": "display_data",
          "data": {
            "text/html": [
              "\n",
              "     <input type=\"file\" id=\"files-7118e348-75a5-4194-8ccc-b0f80abbf8e6\" name=\"files[]\" multiple disabled\n",
              "        style=\"border:none\" />\n",
              "     <output id=\"result-7118e348-75a5-4194-8ccc-b0f80abbf8e6\">\n",
              "      Upload widget is only available when the cell has been executed in the\n",
              "      current browser session. Please rerun this cell to enable.\n",
              "      </output>\n",
              "      <script src=\"/nbextensions/google.colab/files.js\"></script> "
            ],
            "text/plain": [
              "<IPython.core.display.HTML object>"
            ]
          },
          "metadata": {
            "tags": []
          }
        },
        {
          "output_type": "stream",
          "text": [
            "Saving P1_post_test.mat to P1_post_test.mat\n",
            "Saving P1_post_training.mat to P1_post_training.mat\n",
            "Saving P1_pre_test.mat to P1_pre_test.mat\n"
          ],
          "name": "stdout"
        }
      ]
    },
    {
      "cell_type": "code",
      "metadata": {
        "id": "CcvYbN9eqk-Q"
      },
      "source": [
        "# #change path\n",
        "path_TRAIN = r'/content/P1_pre_training_caract_caract250mspca.mat' # use your path\n",
        "path_test = r'/content/P1_pre_test_caract_caract250mspca.mat' # use your path\n",
        "#path = r'/content'\n",
        "#files_TRAIN = glob.glob(path + \"/*training.mat\")\n",
        "#files_test = glob.glob(path + \"/*test.mat\")\n",
        "\n",
        "mat_TRAIN = spio.loadmat(path_TRAIN, squeeze_me=True)\n",
        "mat_test = spio.loadmat(path_test, squeeze_me=True)\n"
      ],
      "execution_count": null,
      "outputs": []
    },
    {
      "cell_type": "code",
      "metadata": {
        "colab": {
          "base_uri": "https://localhost:8080/"
        },
        "id": "oNM1LjjTDrV7",
        "outputId": "54487dea-5a9d-4079-d4d4-9b5d5805dcfe"
      },
      "source": [
        ""
      ],
      "execution_count": null,
      "outputs": [
        {
          "output_type": "execute_result",
          "data": {
            "text/plain": [
              "10"
            ]
          },
          "metadata": {
            "tags": []
          },
          "execution_count": 159
        }
      ]
    },
    {
      "cell_type": "code",
      "metadata": {
        "id": "9VL31in48Si1"
      },
      "source": [
        "y_TRAIN_orig = np.clip( np.max(mat_TRAIN['vlabel'].reshape([-1,24]), axis=1) , 0 , 1)\n",
        "x_TRAIN_orig = mat_TRAIN['mcaract'].reshape([-1,24,mat_TRAIN['mcaract'].shape[1]])\n",
        "y_test_orig = np.clip( np.max(mat_test['vlabel'].reshape([-1,24]), axis=1) , 0 , 1)\n",
        "x_test_orig = mat_test['mcaract'].reshape([-1,24,mat_TRAIN['mcaract'].shape[1]])\n"
      ],
      "execution_count": null,
      "outputs": []
    },
    {
      "cell_type": "code",
      "metadata": {
        "colab": {
          "base_uri": "https://localhost:8080/"
        },
        "id": "gHQUhDwJ_uQE",
        "outputId": "f55e819e-3195-4337-e46b-18f7809561e1"
      },
      "source": [
        "y_TRAIN_orig"
      ],
      "execution_count": null,
      "outputs": [
        {
          "output_type": "execute_result",
          "data": {
            "text/plain": [
              "array([0, 0, 0, 0, 0, 1, 0, 1, 0, 1, 0, 0, 0, 1, 0, 0, 0, 0, 1, 0, 1, 1,\n",
              "       1, 0, 1, 1, 0, 0, 1, 0, 0, 0, 1, 0, 1, 1, 0, 1, 1, 1, 0, 0, 1, 1,\n",
              "       1, 0, 1, 0, 0, 1, 0, 1, 1, 0, 0, 1, 0, 1, 1, 1, 0, 1, 1, 0, 1, 1,\n",
              "       1, 1, 1, 1, 1, 0, 1, 1, 1, 0, 0, 0, 0, 0], dtype=int16)"
            ]
          },
          "metadata": {
            "tags": []
          },
          "execution_count": 161
        }
      ]
    },
    {
      "cell_type": "code",
      "metadata": {
        "colab": {
          "base_uri": "https://localhost:8080/"
        },
        "id": "vMLW_J62_LLk",
        "outputId": "fc38f093-0614-4270-bb03-ffbba3022a13"
      },
      "source": [
        "x_TRAIN_orig.shape"
      ],
      "execution_count": null,
      "outputs": [
        {
          "output_type": "execute_result",
          "data": {
            "text/plain": [
              "(80, 24, 10)"
            ]
          },
          "metadata": {
            "tags": []
          },
          "execution_count": 162
        }
      ]
    },
    {
      "cell_type": "code",
      "metadata": {
        "id": "SUd7DGkhGKoQ"
      },
      "source": [
        "\n",
        "max_value = np.max(x_TRAIN_orig, axis=(0,1))\n",
        "min_value = np.min(x_TRAIN_orig, axis=(0,1))\n",
        "\n",
        "x_TRAIN = (x_TRAIN_orig-min_value)/(max_value-min_value)\n",
        "x_test = (x_test_orig-min_value)/(max_value-min_value)\n"
      ],
      "execution_count": null,
      "outputs": []
    },
    {
      "cell_type": "code",
      "metadata": {
        "colab": {
          "base_uri": "https://localhost:8080/"
        },
        "id": "vy1KbjGpBnzb",
        "outputId": "41287747-6e0e-4f28-f0ba-1e2d82108f80"
      },
      "source": [
        "print(x_TRAIN.shape)\n",
        "print(x_test.shape)\n",
        "print(y_TRAIN_orig.shape)\n",
        "print(y_test_orig.shape)"
      ],
      "execution_count": null,
      "outputs": [
        {
          "output_type": "stream",
          "text": [
            "(80, 24, 10)\n",
            "(80, 24, 10)\n",
            "(80,)\n",
            "(80,)\n"
          ],
          "name": "stdout"
        }
      ]
    },
    {
      "cell_type": "code",
      "metadata": {
        "colab": {
          "base_uri": "https://localhost:8080/"
        },
        "id": "uoNoCWMMBLH6",
        "outputId": "8b327c80-9c4c-45f9-ecf2-df121d17f145"
      },
      "source": [
        " \n",
        "model = tf.keras.models.Sequential([\n",
        "  #tf.keras.layers.LSTM(32, return_sequences=True, input_shape=(x_TRAIN.shape[1],x_TRAIN.shape[2])),\n",
        "  tf.keras.layers.LSTM(32, input_shape=(x_TRAIN.shape[1],x_TRAIN.shape[2])),\n",
        "  #tf.keras.layers.LSTM(32),\n",
        "  tf.keras.layers.Dense(1, activation = sigmoid),\n",
        "])\n",
        "model.summary()\n",
        "\n",
        "lr_schedule = tf.keras.callbacks.LearningRateScheduler(\n",
        "    lambda epoch: 1e-6 * 10**(epoch / 20))\n",
        "optimizer = tf.keras.optimizers.Adam(lr=1e-6)\n",
        "model.compile(loss='binary_crossentropy',\n",
        "              optimizer=optimizer,\n",
        "              metrics=[\"acc\"])\n",
        "history = model.fit(x_TRAIN, y_TRAIN_orig, epochs=100, callbacks=[lr_schedule])"
      ],
      "execution_count": null,
      "outputs": [
        {
          "output_type": "stream",
          "text": [
            "Model: \"sequential_35\"\n",
            "_________________________________________________________________\n",
            "Layer (type)                 Output Shape              Param #   \n",
            "=================================================================\n",
            "lstm_43 (LSTM)               (None, 32)                5504      \n",
            "_________________________________________________________________\n",
            "dense_35 (Dense)             (None, 1)                 33        \n",
            "=================================================================\n",
            "Total params: 5,537\n",
            "Trainable params: 5,537\n",
            "Non-trainable params: 0\n",
            "_________________________________________________________________\n",
            "Epoch 1/100\n",
            "3/3 [==============================] - 1s 7ms/step - loss: 0.6919 - acc: 0.5234\n",
            "Epoch 2/100\n",
            "3/3 [==============================] - 0s 5ms/step - loss: 0.6973 - acc: 0.4766\n",
            "Epoch 3/100\n",
            "3/3 [==============================] - 0s 5ms/step - loss: 0.6915 - acc: 0.5273\n",
            "Epoch 4/100\n",
            "3/3 [==============================] - 0s 5ms/step - loss: 0.6914 - acc: 0.5273\n",
            "Epoch 5/100\n",
            "3/3 [==============================] - 0s 5ms/step - loss: 0.6971 - acc: 0.4805\n",
            "Epoch 6/100\n",
            "3/3 [==============================] - 0s 5ms/step - loss: 0.6962 - acc: 0.4883\n",
            "Epoch 7/100\n",
            "3/3 [==============================] - 0s 5ms/step - loss: 0.6974 - acc: 0.4766\n",
            "Epoch 8/100\n",
            "3/3 [==============================] - 0s 6ms/step - loss: 0.6936 - acc: 0.5078\n",
            "Epoch 9/100\n",
            "3/3 [==============================] - 0s 6ms/step - loss: 0.6943 - acc: 0.5039\n",
            "Epoch 10/100\n",
            "3/3 [==============================] - 0s 6ms/step - loss: 0.6928 - acc: 0.5156\n",
            "Epoch 11/100\n",
            "3/3 [==============================] - 0s 6ms/step - loss: 0.6949 - acc: 0.4961\n",
            "Epoch 12/100\n",
            "3/3 [==============================] - 0s 6ms/step - loss: 0.6964 - acc: 0.4844\n",
            "Epoch 13/100\n",
            "3/3 [==============================] - 0s 9ms/step - loss: 0.6955 - acc: 0.4922\n",
            "Epoch 14/100\n",
            "3/3 [==============================] - 0s 5ms/step - loss: 0.6919 - acc: 0.5234\n",
            "Epoch 15/100\n",
            "3/3 [==============================] - 0s 5ms/step - loss: 0.6918 - acc: 0.5234\n",
            "Epoch 16/100\n",
            "3/3 [==============================] - 0s 5ms/step - loss: 0.6948 - acc: 0.4961\n",
            "Epoch 17/100\n",
            "3/3 [==============================] - 0s 5ms/step - loss: 0.6955 - acc: 0.4922\n",
            "Epoch 18/100\n",
            "3/3 [==============================] - 0s 5ms/step - loss: 0.6967 - acc: 0.4805\n",
            "Epoch 19/100\n",
            "3/3 [==============================] - 0s 5ms/step - loss: 0.6969 - acc: 0.4805\n",
            "Epoch 20/100\n",
            "3/3 [==============================] - 0s 5ms/step - loss: 0.6957 - acc: 0.4883\n",
            "Epoch 21/100\n",
            "3/3 [==============================] - 0s 5ms/step - loss: 0.6945 - acc: 0.5000\n",
            "Epoch 22/100\n",
            "3/3 [==============================] - 0s 5ms/step - loss: 0.6906 - acc: 0.5352\n",
            "Epoch 23/100\n",
            "3/3 [==============================] - 0s 6ms/step - loss: 0.6966 - acc: 0.4805\n",
            "Epoch 24/100\n",
            "3/3 [==============================] - 0s 5ms/step - loss: 0.6931 - acc: 0.5117\n",
            "Epoch 25/100\n",
            "3/3 [==============================] - 0s 5ms/step - loss: 0.6970 - acc: 0.4766\n",
            "Epoch 26/100\n",
            "3/3 [==============================] - 0s 5ms/step - loss: 0.6986 - acc: 0.4609\n",
            "Epoch 27/100\n",
            "3/3 [==============================] - 0s 5ms/step - loss: 0.6986 - acc: 0.4609\n",
            "Epoch 28/100\n",
            "3/3 [==============================] - 0s 5ms/step - loss: 0.6965 - acc: 0.4805\n",
            "Epoch 29/100\n",
            "3/3 [==============================] - 0s 5ms/step - loss: 0.6908 - acc: 0.5352\n",
            "Epoch 30/100\n",
            "3/3 [==============================] - 0s 5ms/step - loss: 0.6918 - acc: 0.5234\n",
            "Epoch 31/100\n",
            "3/3 [==============================] - 0s 5ms/step - loss: 0.6987 - acc: 0.4570\n",
            "Epoch 32/100\n",
            "3/3 [==============================] - 0s 5ms/step - loss: 0.6922 - acc: 0.5195\n",
            "Epoch 33/100\n",
            "3/3 [==============================] - 0s 5ms/step - loss: 0.6977 - acc: 0.4648\n",
            "Epoch 34/100\n",
            "3/3 [==============================] - 0s 5ms/step - loss: 0.6960 - acc: 0.4805\n",
            "Epoch 35/100\n",
            "3/3 [==============================] - 0s 5ms/step - loss: 0.6929 - acc: 0.5117\n",
            "Epoch 36/100\n",
            "3/3 [==============================] - 0s 5ms/step - loss: 0.6940 - acc: 0.5000\n",
            "Epoch 37/100\n",
            "3/3 [==============================] - 0s 5ms/step - loss: 0.6961 - acc: 0.4766\n",
            "Epoch 38/100\n",
            "3/3 [==============================] - 0s 5ms/step - loss: 0.6910 - acc: 0.5312\n",
            "Epoch 39/100\n",
            "3/3 [==============================] - 0s 5ms/step - loss: 0.6926 - acc: 0.5117\n",
            "Epoch 40/100\n",
            "3/3 [==============================] - 0s 5ms/step - loss: 0.6940 - acc: 0.4922\n",
            "Epoch 41/100\n",
            "3/3 [==============================] - 0s 5ms/step - loss: 0.6937 - acc: 0.4961\n",
            "Epoch 42/100\n",
            "3/3 [==============================] - 0s 5ms/step - loss: 0.6911 - acc: 0.5352\n",
            "Epoch 43/100\n",
            "3/3 [==============================] - 0s 5ms/step - loss: 0.6939 - acc: 0.4922\n",
            "Epoch 44/100\n",
            "3/3 [==============================] - 0s 5ms/step - loss: 0.6939 - acc: 0.4883\n",
            "Epoch 45/100\n",
            "3/3 [==============================] - 0s 5ms/step - loss: 0.6926 - acc: 0.5117\n",
            "Epoch 46/100\n",
            "3/3 [==============================] - 0s 5ms/step - loss: 0.6931 - acc: 0.4961\n",
            "Epoch 47/100\n",
            "3/3 [==============================] - 0s 6ms/step - loss: 0.6927 - acc: 0.5078\n",
            "Epoch 48/100\n",
            "3/3 [==============================] - 0s 5ms/step - loss: 0.6929 - acc: 0.4883\n",
            "Epoch 49/100\n",
            "3/3 [==============================] - 0s 6ms/step - loss: 0.6926 - acc: 0.5312\n",
            "Epoch 50/100\n",
            "3/3 [==============================] - 0s 5ms/step - loss: 0.6928 - acc: 0.5016\n",
            "Epoch 51/100\n",
            "3/3 [==============================] - 0s 5ms/step - loss: 0.6929 - acc: 0.4656\n",
            "Epoch 52/100\n",
            "3/3 [==============================] - 0s 5ms/step - loss: 0.6928 - acc: 0.6031\n",
            "Epoch 53/100\n",
            "3/3 [==============================] - 0s 5ms/step - loss: 0.6932 - acc: 0.4953\n",
            "Epoch 54/100\n",
            "3/3 [==============================] - 0s 5ms/step - loss: 0.6929 - acc: 0.5078\n",
            "Epoch 55/100\n",
            "3/3 [==============================] - 0s 5ms/step - loss: 0.6930 - acc: 0.4961\n",
            "Epoch 56/100\n",
            "3/3 [==============================] - 0s 5ms/step - loss: 0.6930 - acc: 0.5023\n",
            "Epoch 57/100\n",
            "3/3 [==============================] - 0s 5ms/step - loss: 0.6934 - acc: 0.4812\n",
            "Epoch 58/100\n",
            "3/3 [==============================] - 0s 6ms/step - loss: 0.6930 - acc: 0.4898\n",
            "Epoch 59/100\n",
            "3/3 [==============================] - 0s 6ms/step - loss: 0.6933 - acc: 0.4766\n",
            "Epoch 60/100\n",
            "3/3 [==============================] - 0s 5ms/step - loss: 0.6929 - acc: 0.5117\n",
            "Epoch 61/100\n",
            "3/3 [==============================] - 0s 5ms/step - loss: 0.6923 - acc: 0.5195\n",
            "Epoch 62/100\n",
            "3/3 [==============================] - 0s 6ms/step - loss: 0.6996 - acc: 0.4492\n",
            "Epoch 63/100\n",
            "3/3 [==============================] - 0s 5ms/step - loss: 0.6965 - acc: 0.4570\n",
            "Epoch 64/100\n",
            "3/3 [==============================] - 0s 5ms/step - loss: 0.6943 - acc: 0.4922\n",
            "Epoch 65/100\n",
            "3/3 [==============================] - 0s 6ms/step - loss: 0.6927 - acc: 0.5156\n",
            "Epoch 66/100\n",
            "3/3 [==============================] - 0s 5ms/step - loss: 0.6953 - acc: 0.4922\n",
            "Epoch 67/100\n",
            "3/3 [==============================] - 0s 5ms/step - loss: 0.6925 - acc: 0.5617\n",
            "Epoch 68/100\n",
            "3/3 [==============================] - 0s 5ms/step - loss: 0.6947 - acc: 0.5625\n",
            "Epoch 69/100\n",
            "3/3 [==============================] - 0s 5ms/step - loss: 0.6970 - acc: 0.4844\n",
            "Epoch 70/100\n",
            "3/3 [==============================] - 0s 5ms/step - loss: 0.6918 - acc: 0.5234\n",
            "Epoch 71/100\n",
            "3/3 [==============================] - 0s 5ms/step - loss: 0.6926 - acc: 0.5039\n",
            "Epoch 72/100\n",
            "3/3 [==============================] - 0s 5ms/step - loss: 0.6923 - acc: 0.6078\n",
            "Epoch 73/100\n",
            "3/3 [==============================] - 0s 5ms/step - loss: 0.6936 - acc: 0.4922\n",
            "Epoch 74/100\n",
            "3/3 [==============================] - 0s 5ms/step - loss: 0.6952 - acc: 0.4766\n",
            "Epoch 75/100\n",
            "3/3 [==============================] - 0s 5ms/step - loss: 0.6942 - acc: 0.4805\n",
            "Epoch 76/100\n",
            "3/3 [==============================] - 0s 5ms/step - loss: 0.6929 - acc: 0.5039\n",
            "Epoch 77/100\n",
            "3/3 [==============================] - 0s 5ms/step - loss: 0.6932 - acc: 0.4922\n",
            "Epoch 78/100\n",
            "3/3 [==============================] - 0s 5ms/step - loss: 0.6917 - acc: 0.5156\n",
            "Epoch 79/100\n",
            "3/3 [==============================] - 0s 5ms/step - loss: 0.6922 - acc: 0.5117\n",
            "Epoch 80/100\n",
            "3/3 [==============================] - 0s 5ms/step - loss: 0.6919 - acc: 0.5156\n",
            "Epoch 81/100\n",
            "3/3 [==============================] - 0s 5ms/step - loss: 0.6927 - acc: 0.4938\n",
            "Epoch 82/100\n",
            "3/3 [==============================] - 0s 6ms/step - loss: 0.6908 - acc: 0.5312\n",
            "Epoch 83/100\n",
            "3/3 [==============================] - 0s 5ms/step - loss: 0.6924 - acc: 0.4883\n",
            "Epoch 84/100\n",
            "3/3 [==============================] - 0s 5ms/step - loss: 0.7049 - acc: 0.4273\n",
            "Epoch 85/100\n",
            "3/3 [==============================] - 0s 5ms/step - loss: 0.6998 - acc: 0.5312\n",
            "Epoch 86/100\n",
            "3/3 [==============================] - 0s 6ms/step - loss: 0.6944 - acc: 0.5000\n",
            "Epoch 87/100\n",
            "3/3 [==============================] - 0s 5ms/step - loss: 0.6963 - acc: 0.5234\n",
            "Epoch 88/100\n",
            "3/3 [==============================] - 0s 6ms/step - loss: 0.7070 - acc: 0.4609\n",
            "Epoch 89/100\n",
            "3/3 [==============================] - 0s 6ms/step - loss: 0.6966 - acc: 0.5031\n",
            "Epoch 90/100\n",
            "3/3 [==============================] - 0s 5ms/step - loss: 0.6921 - acc: 0.5156\n",
            "Epoch 91/100\n",
            "3/3 [==============================] - 0s 5ms/step - loss: 0.6917 - acc: 0.5195\n",
            "Epoch 92/100\n",
            "3/3 [==============================] - 0s 5ms/step - loss: 0.6929 - acc: 0.5117\n",
            "Epoch 93/100\n",
            "3/3 [==============================] - 0s 6ms/step - loss: 0.6978 - acc: 0.4688\n",
            "Epoch 94/100\n",
            "3/3 [==============================] - 0s 5ms/step - loss: 0.6958 - acc: 0.3719\n",
            "Epoch 95/100\n",
            "3/3 [==============================] - 0s 5ms/step - loss: 0.6931 - acc: 0.4695\n",
            "Epoch 96/100\n",
            "3/3 [==============================] - 0s 6ms/step - loss: 0.6927 - acc: 0.5078\n",
            "Epoch 97/100\n",
            "3/3 [==============================] - 0s 5ms/step - loss: 0.6921 - acc: 0.5234\n",
            "Epoch 98/100\n",
            "3/3 [==============================] - 0s 5ms/step - loss: 0.6895 - acc: 0.5234\n",
            "Epoch 99/100\n",
            "3/3 [==============================] - 0s 5ms/step - loss: 0.6947 - acc: 0.5391\n",
            "Epoch 100/100\n",
            "3/3 [==============================] - 0s 5ms/step - loss: 0.6966 - acc: 0.4922\n"
          ],
          "name": "stdout"
        }
      ]
    },
    {
      "cell_type": "code",
      "metadata": {
        "colab": {
          "base_uri": "https://localhost:8080/",
          "height": 287
        },
        "id": "lIaQ6SsZF1Kz",
        "outputId": "be0d55c1-2d7c-480e-efa0-69a9cc1e03f4"
      },
      "source": [
        "plt.semilogx(history.history[\"lr\"], history.history[\"loss\"])\n",
        "#plt.axis([1e-8, 1e-4, 0, 30])\n"
      ],
      "execution_count": null,
      "outputs": [
        {
          "output_type": "execute_result",
          "data": {
            "text/plain": [
              "[<matplotlib.lines.Line2D at 0x7f2d980b7650>]"
            ]
          },
          "metadata": {
            "tags": []
          },
          "execution_count": 172
        },
        {
          "output_type": "display_data",
          "data": {
            "image/png": "[encoded data removed]",
            "text/plain": [
              "<Figure size 432x288 with 1 Axes>"
            ]
          },
          "metadata": {
            "tags": [],
            "needs_background": "light"
          }
        }
      ]
    },
    {
      "cell_type": "code",
      "metadata": {
        "id": "1Vf1QmEgDV-C",
        "colab": {
          "base_uri": "https://localhost:8080/"
        },
        "outputId": "480e7600-a8ff-4f3d-a23b-a2fed13e5199"
      },
      "source": [
        "model = tf.keras.models.Sequential([\n",
        "  #tf.keras.layers.LSTM(32, return_sequences=True, input_shape=(x_TRAIN.shape[1],x_TRAIN.shape[2])),\n",
        "  #tf.keras.layers.LSTM(32),\n",
        "  tf.keras.layers.LSTM(32, input_shape=(x_TRAIN.shape[1],x_TRAIN.shape[2]) ),\n",
        "  tf.keras.layers.Dense(1, activation = sigmoid),\n",
        "])\n",
        "\n",
        "model.summary()"
      ],
      "execution_count": null,
      "outputs": [
        {
          "output_type": "stream",
          "text": [
            "Model: \"sequential_36\"\n",
            "_________________________________________________________________\n",
            "Layer (type)                 Output Shape              Param #   \n",
            "=================================================================\n",
            "lstm_44 (LSTM)               (None, 32)                5504      \n",
            "_________________________________________________________________\n",
            "dense_36 (Dense)             (None, 1)                 33        \n",
            "=================================================================\n",
            "Total params: 5,537\n",
            "Trainable params: 5,537\n",
            "Non-trainable params: 0\n",
            "_________________________________________________________________\n"
          ],
          "name": "stdout"
        }
      ]
    },
    {
      "cell_type": "code",
      "metadata": {
        "colab": {
          "base_uri": "https://localhost:8080/"
        },
        "id": "mnhFjdNaFPd0",
        "outputId": "95192657-7858-47fc-ade0-3d9ac7d90966"
      },
      "source": [
        "optimizer = tf.keras.optimizers.Adam(lr=4e-4)\n",
        "model.compile(loss='binary_crossentropy',\n",
        "              optimizer=optimizer,\n",
        "              metrics=[\"acc\"])\n",
        "\n",
        "history = model.fit(x_TRAIN, y_TRAIN_orig, validation_data = (x_test, y_test_orig), epochs=200)\n"
      ],
      "execution_count": null,
      "outputs": [
        {
          "output_type": "stream",
          "text": [
            "Epoch 1/200\n",
            "3/3 [==============================] - 2s 200ms/step - loss: 0.6913 - acc: 0.5578 - val_loss: 0.6924 - val_acc: 0.5000\n",
            "Epoch 2/200\n",
            "3/3 [==============================] - 0s 24ms/step - loss: 0.6899 - acc: 0.5398 - val_loss: 0.6921 - val_acc: 0.5625\n",
            "Epoch 3/200\n",
            "3/3 [==============================] - 0s 22ms/step - loss: 0.6903 - acc: 0.5758 - val_loss: 0.6924 - val_acc: 0.5375\n",
            "Epoch 4/200\n",
            "3/3 [==============================] - 0s 21ms/step - loss: 0.6906 - acc: 0.5039 - val_loss: 0.6925 - val_acc: 0.5250\n",
            "Epoch 5/200\n",
            "3/3 [==============================] - 0s 22ms/step - loss: 0.6904 - acc: 0.5156 - val_loss: 0.6926 - val_acc: 0.5250\n",
            "Epoch 6/200\n",
            "3/3 [==============================] - 0s 21ms/step - loss: 0.6906 - acc: 0.5078 - val_loss: 0.6926 - val_acc: 0.5250\n",
            "Epoch 7/200\n",
            "3/3 [==============================] - 0s 23ms/step - loss: 0.6896 - acc: 0.5195 - val_loss: 0.6925 - val_acc: 0.5250\n",
            "Epoch 8/200\n",
            "3/3 [==============================] - 0s 22ms/step - loss: 0.6894 - acc: 0.5273 - val_loss: 0.6922 - val_acc: 0.5375\n",
            "Epoch 9/200\n",
            "3/3 [==============================] - 0s 21ms/step - loss: 0.6897 - acc: 0.5344 - val_loss: 0.6921 - val_acc: 0.4875\n",
            "Epoch 10/200\n",
            "3/3 [==============================] - 0s 22ms/step - loss: 0.6903 - acc: 0.5289 - val_loss: 0.6924 - val_acc: 0.5000\n",
            "Epoch 11/200\n",
            "3/3 [==============================] - 0s 20ms/step - loss: 0.6910 - acc: 0.4984 - val_loss: 0.6931 - val_acc: 0.5000\n",
            "Epoch 12/200\n",
            "3/3 [==============================] - 0s 21ms/step - loss: 0.6918 - acc: 0.4883 - val_loss: 0.6936 - val_acc: 0.5000\n",
            "Epoch 13/200\n",
            "3/3 [==============================] - 0s 20ms/step - loss: 0.6958 - acc: 0.4648 - val_loss: 0.6935 - val_acc: 0.5000\n",
            "Epoch 14/200\n",
            "3/3 [==============================] - 0s 23ms/step - loss: 0.6940 - acc: 0.4805 - val_loss: 0.6933 - val_acc: 0.5000\n",
            "Epoch 15/200\n",
            "3/3 [==============================] - 0s 24ms/step - loss: 0.6922 - acc: 0.5000 - val_loss: 0.6929 - val_acc: 0.5000\n",
            "Epoch 16/200\n",
            "3/3 [==============================] - 0s 21ms/step - loss: 0.6899 - acc: 0.5141 - val_loss: 0.6925 - val_acc: 0.5000\n",
            "Epoch 17/200\n",
            "3/3 [==============================] - 0s 21ms/step - loss: 0.6895 - acc: 0.5203 - val_loss: 0.6921 - val_acc: 0.4375\n",
            "Epoch 18/200\n",
            "3/3 [==============================] - 0s 24ms/step - loss: 0.6883 - acc: 0.5938 - val_loss: 0.6920 - val_acc: 0.5125\n",
            "Epoch 19/200\n",
            "3/3 [==============================] - 0s 21ms/step - loss: 0.6898 - acc: 0.5484 - val_loss: 0.6922 - val_acc: 0.5375\n",
            "Epoch 20/200\n",
            "3/3 [==============================] - 0s 21ms/step - loss: 0.6899 - acc: 0.5375 - val_loss: 0.6925 - val_acc: 0.5375\n",
            "Epoch 21/200\n",
            "3/3 [==============================] - 0s 21ms/step - loss: 0.6920 - acc: 0.4688 - val_loss: 0.6922 - val_acc: 0.5375\n",
            "Epoch 22/200\n",
            "3/3 [==============================] - 0s 24ms/step - loss: 0.6901 - acc: 0.4984 - val_loss: 0.6922 - val_acc: 0.5375\n",
            "Epoch 23/200\n",
            "3/3 [==============================] - 0s 24ms/step - loss: 0.6901 - acc: 0.4867 - val_loss: 0.6921 - val_acc: 0.5250\n",
            "Epoch 24/200\n",
            "3/3 [==============================] - 0s 24ms/step - loss: 0.6892 - acc: 0.5531 - val_loss: 0.6921 - val_acc: 0.5250\n",
            "Epoch 25/200\n",
            "3/3 [==============================] - 0s 22ms/step - loss: 0.6894 - acc: 0.5531 - val_loss: 0.6920 - val_acc: 0.5250\n",
            "Epoch 26/200\n",
            "3/3 [==============================] - 0s 22ms/step - loss: 0.6890 - acc: 0.5742 - val_loss: 0.6921 - val_acc: 0.5250\n",
            "Epoch 27/200\n",
            "3/3 [==============================] - 0s 22ms/step - loss: 0.6885 - acc: 0.6234 - val_loss: 0.6920 - val_acc: 0.4500\n",
            "Epoch 28/200\n",
            "3/3 [==============================] - 0s 22ms/step - loss: 0.6892 - acc: 0.6422 - val_loss: 0.6921 - val_acc: 0.4125\n",
            "Epoch 29/200\n",
            "3/3 [==============================] - 0s 24ms/step - loss: 0.6899 - acc: 0.5234 - val_loss: 0.6921 - val_acc: 0.4500\n",
            "Epoch 30/200\n",
            "3/3 [==============================] - 0s 22ms/step - loss: 0.6893 - acc: 0.5805 - val_loss: 0.6922 - val_acc: 0.4500\n",
            "Epoch 31/200\n",
            "3/3 [==============================] - 0s 22ms/step - loss: 0.6878 - acc: 0.5594 - val_loss: 0.6922 - val_acc: 0.4500\n",
            "Epoch 32/200\n",
            "3/3 [==============================] - 0s 22ms/step - loss: 0.6878 - acc: 0.5680 - val_loss: 0.6920 - val_acc: 0.4750\n",
            "Epoch 33/200\n",
            "3/3 [==============================] - 0s 22ms/step - loss: 0.6875 - acc: 0.5758 - val_loss: 0.6920 - val_acc: 0.5000\n",
            "Epoch 34/200\n",
            "3/3 [==============================] - 0s 21ms/step - loss: 0.6879 - acc: 0.6219 - val_loss: 0.6928 - val_acc: 0.5375\n",
            "Epoch 35/200\n",
            "3/3 [==============================] - 0s 21ms/step - loss: 0.6870 - acc: 0.5297 - val_loss: 0.6932 - val_acc: 0.5375\n",
            "Epoch 36/200\n",
            "3/3 [==============================] - 0s 23ms/step - loss: 0.6907 - acc: 0.4867 - val_loss: 0.6921 - val_acc: 0.5250\n",
            "Epoch 37/200\n",
            "3/3 [==============================] - 0s 21ms/step - loss: 0.6903 - acc: 0.5109 - val_loss: 0.6920 - val_acc: 0.4250\n",
            "Epoch 38/200\n",
            "3/3 [==============================] - 0s 21ms/step - loss: 0.6880 - acc: 0.5664 - val_loss: 0.6920 - val_acc: 0.4250\n",
            "Epoch 39/200\n",
            "3/3 [==============================] - 0s 20ms/step - loss: 0.6882 - acc: 0.5680 - val_loss: 0.6924 - val_acc: 0.4875\n",
            "Epoch 40/200\n",
            "3/3 [==============================] - 0s 20ms/step - loss: 0.6896 - acc: 0.5188 - val_loss: 0.6919 - val_acc: 0.4500\n",
            "Epoch 41/200\n",
            "3/3 [==============================] - 0s 20ms/step - loss: 0.6881 - acc: 0.6211 - val_loss: 0.6919 - val_acc: 0.4250\n",
            "Epoch 42/200\n",
            "3/3 [==============================] - 0s 21ms/step - loss: 0.6876 - acc: 0.6664 - val_loss: 0.6919 - val_acc: 0.4250\n",
            "Epoch 43/200\n",
            "3/3 [==============================] - 0s 22ms/step - loss: 0.6875 - acc: 0.5922 - val_loss: 0.6919 - val_acc: 0.5125\n",
            "Epoch 44/200\n",
            "3/3 [==============================] - 0s 21ms/step - loss: 0.6866 - acc: 0.5695 - val_loss: 0.6919 - val_acc: 0.5000\n",
            "Epoch 45/200\n",
            "3/3 [==============================] - 0s 20ms/step - loss: 0.6866 - acc: 0.5570 - val_loss: 0.6919 - val_acc: 0.4125\n",
            "Epoch 46/200\n",
            "3/3 [==============================] - 0s 20ms/step - loss: 0.6866 - acc: 0.6914 - val_loss: 0.6919 - val_acc: 0.4375\n",
            "Epoch 47/200\n",
            "3/3 [==============================] - 0s 21ms/step - loss: 0.6862 - acc: 0.6625 - val_loss: 0.6920 - val_acc: 0.5000\n",
            "Epoch 48/200\n",
            "3/3 [==============================] - 0s 26ms/step - loss: 0.6877 - acc: 0.5813 - val_loss: 0.6919 - val_acc: 0.4500\n",
            "Epoch 49/200\n",
            "3/3 [==============================] - 0s 23ms/step - loss: 0.6877 - acc: 0.5563 - val_loss: 0.6920 - val_acc: 0.4250\n",
            "Epoch 50/200\n",
            "3/3 [==============================] - 0s 22ms/step - loss: 0.6860 - acc: 0.6141 - val_loss: 0.6922 - val_acc: 0.5250\n",
            "Epoch 51/200\n",
            "3/3 [==============================] - 0s 22ms/step - loss: 0.6850 - acc: 0.5719 - val_loss: 0.6922 - val_acc: 0.5125\n",
            "Epoch 52/200\n",
            "3/3 [==============================] - 0s 22ms/step - loss: 0.6876 - acc: 0.4961 - val_loss: 0.6921 - val_acc: 0.4625\n",
            "Epoch 53/200\n",
            "3/3 [==============================] - 0s 24ms/step - loss: 0.6839 - acc: 0.7195 - val_loss: 0.6921 - val_acc: 0.4750\n",
            "Epoch 54/200\n",
            "3/3 [==============================] - 0s 24ms/step - loss: 0.6848 - acc: 0.5750 - val_loss: 0.6921 - val_acc: 0.4625\n",
            "Epoch 55/200\n",
            "3/3 [==============================] - 0s 26ms/step - loss: 0.6858 - acc: 0.5680 - val_loss: 0.6926 - val_acc: 0.5375\n",
            "Epoch 56/200\n",
            "3/3 [==============================] - 0s 23ms/step - loss: 0.6856 - acc: 0.5477 - val_loss: 0.6950 - val_acc: 0.5375\n",
            "Epoch 57/200\n",
            "3/3 [==============================] - 0s 22ms/step - loss: 0.6935 - acc: 0.4789 - val_loss: 0.6929 - val_acc: 0.5375\n",
            "Epoch 58/200\n",
            "3/3 [==============================] - 0s 23ms/step - loss: 0.6840 - acc: 0.5484 - val_loss: 0.6924 - val_acc: 0.5125\n",
            "Epoch 59/200\n",
            "3/3 [==============================] - 0s 23ms/step - loss: 0.6852 - acc: 0.5625 - val_loss: 0.6923 - val_acc: 0.4500\n",
            "Epoch 60/200\n",
            "3/3 [==============================] - 0s 22ms/step - loss: 0.6822 - acc: 0.6477 - val_loss: 0.6925 - val_acc: 0.5000\n",
            "Epoch 61/200\n",
            "3/3 [==============================] - 0s 23ms/step - loss: 0.6856 - acc: 0.5320 - val_loss: 0.6927 - val_acc: 0.5250\n",
            "Epoch 62/200\n",
            "3/3 [==============================] - 0s 23ms/step - loss: 0.6854 - acc: 0.5813 - val_loss: 0.6938 - val_acc: 0.4750\n",
            "Epoch 63/200\n",
            "3/3 [==============================] - 0s 22ms/step - loss: 0.6871 - acc: 0.5109 - val_loss: 0.6937 - val_acc: 0.4750\n",
            "Epoch 64/200\n",
            "3/3 [==============================] - 0s 23ms/step - loss: 0.6826 - acc: 0.5516 - val_loss: 0.6937 - val_acc: 0.4750\n",
            "Epoch 65/200\n",
            "3/3 [==============================] - 0s 21ms/step - loss: 0.6841 - acc: 0.5453 - val_loss: 0.6925 - val_acc: 0.4500\n",
            "Epoch 66/200\n",
            "3/3 [==============================] - 0s 21ms/step - loss: 0.6842 - acc: 0.5273 - val_loss: 0.6931 - val_acc: 0.5375\n",
            "Epoch 67/200\n",
            "3/3 [==============================] - 0s 21ms/step - loss: 0.6817 - acc: 0.5406 - val_loss: 0.6941 - val_acc: 0.5375\n",
            "Epoch 68/200\n",
            "3/3 [==============================] - 0s 22ms/step - loss: 0.6834 - acc: 0.5320 - val_loss: 0.6945 - val_acc: 0.5375\n",
            "Epoch 69/200\n",
            "3/3 [==============================] - 0s 22ms/step - loss: 0.6810 - acc: 0.5242 - val_loss: 0.6932 - val_acc: 0.5000\n",
            "Epoch 70/200\n",
            "3/3 [==============================] - 0s 21ms/step - loss: 0.6776 - acc: 0.5883 - val_loss: 0.6932 - val_acc: 0.4000\n",
            "Epoch 71/200\n",
            "3/3 [==============================] - 0s 21ms/step - loss: 0.6749 - acc: 0.6969 - val_loss: 0.6938 - val_acc: 0.4125\n",
            "Epoch 72/200\n",
            "3/3 [==============================] - 0s 23ms/step - loss: 0.6821 - acc: 0.5992 - val_loss: 0.6953 - val_acc: 0.4375\n",
            "Epoch 73/200\n",
            "3/3 [==============================] - 0s 24ms/step - loss: 0.6785 - acc: 0.5570 - val_loss: 0.6939 - val_acc: 0.4125\n",
            "Epoch 74/200\n",
            "3/3 [==============================] - 0s 24ms/step - loss: 0.6810 - acc: 0.5938 - val_loss: 0.6952 - val_acc: 0.5375\n",
            "Epoch 75/200\n",
            "3/3 [==============================] - 0s 27ms/step - loss: 0.6775 - acc: 0.5656 - val_loss: 0.6977 - val_acc: 0.5375\n",
            "Epoch 76/200\n",
            "3/3 [==============================] - 0s 24ms/step - loss: 0.6871 - acc: 0.4750 - val_loss: 0.6958 - val_acc: 0.3875\n",
            "Epoch 77/200\n",
            "3/3 [==============================] - 0s 23ms/step - loss: 0.6749 - acc: 0.6125 - val_loss: 0.6958 - val_acc: 0.5000\n",
            "Epoch 78/200\n",
            "3/3 [==============================] - 0s 23ms/step - loss: 0.6772 - acc: 0.5547 - val_loss: 0.6954 - val_acc: 0.4750\n",
            "Epoch 79/200\n",
            "3/3 [==============================] - 0s 24ms/step - loss: 0.6760 - acc: 0.5766 - val_loss: 0.6977 - val_acc: 0.4125\n",
            "Epoch 80/200\n",
            "3/3 [==============================] - 0s 23ms/step - loss: 0.6777 - acc: 0.5586 - val_loss: 0.6965 - val_acc: 0.3750\n",
            "Epoch 81/200\n",
            "3/3 [==============================] - 0s 23ms/step - loss: 0.6754 - acc: 0.6664 - val_loss: 0.6963 - val_acc: 0.4125\n",
            "Epoch 82/200\n",
            "3/3 [==============================] - 0s 23ms/step - loss: 0.6718 - acc: 0.7164 - val_loss: 0.6975 - val_acc: 0.4875\n",
            "Epoch 83/200\n",
            "3/3 [==============================] - 0s 21ms/step - loss: 0.6728 - acc: 0.5734 - val_loss: 0.6980 - val_acc: 0.4875\n",
            "Epoch 84/200\n",
            "3/3 [==============================] - 0s 23ms/step - loss: 0.6770 - acc: 0.5922 - val_loss: 0.7014 - val_acc: 0.4375\n",
            "Epoch 85/200\n",
            "3/3 [==============================] - 0s 23ms/step - loss: 0.6732 - acc: 0.5422 - val_loss: 0.6979 - val_acc: 0.4125\n",
            "Epoch 86/200\n",
            "3/3 [==============================] - 0s 21ms/step - loss: 0.6742 - acc: 0.6039 - val_loss: 0.6983 - val_acc: 0.4375\n",
            "Epoch 87/200\n",
            "3/3 [==============================] - 0s 20ms/step - loss: 0.6674 - acc: 0.5961 - val_loss: 0.6989 - val_acc: 0.4250\n",
            "Epoch 88/200\n",
            "3/3 [==============================] - 0s 20ms/step - loss: 0.6709 - acc: 0.6266 - val_loss: 0.7018 - val_acc: 0.3750\n",
            "Epoch 89/200\n",
            "3/3 [==============================] - 0s 22ms/step - loss: 0.6652 - acc: 0.6031 - val_loss: 0.7018 - val_acc: 0.5000\n",
            "Epoch 90/200\n",
            "3/3 [==============================] - 0s 21ms/step - loss: 0.6928 - acc: 0.5828 - val_loss: 0.7323 - val_acc: 0.5375\n",
            "Epoch 91/200\n",
            "3/3 [==============================] - 0s 22ms/step - loss: 0.7211 - acc: 0.4906 - val_loss: 0.6982 - val_acc: 0.4875\n",
            "Epoch 92/200\n",
            "3/3 [==============================] - 0s 23ms/step - loss: 0.6618 - acc: 0.6297 - val_loss: 0.7125 - val_acc: 0.5000\n",
            "Epoch 93/200\n",
            "3/3 [==============================] - 0s 22ms/step - loss: 0.6815 - acc: 0.5180 - val_loss: 0.7174 - val_acc: 0.5000\n",
            "Epoch 94/200\n",
            "3/3 [==============================] - 0s 22ms/step - loss: 0.6811 - acc: 0.5242 - val_loss: 0.6962 - val_acc: 0.4125\n",
            "Epoch 95/200\n",
            "3/3 [==============================] - 0s 23ms/step - loss: 0.6697 - acc: 0.5609 - val_loss: 0.6984 - val_acc: 0.5500\n",
            "Epoch 96/200\n",
            "3/3 [==============================] - 0s 23ms/step - loss: 0.6744 - acc: 0.5461 - val_loss: 0.6984 - val_acc: 0.5500\n",
            "Epoch 97/200\n",
            "3/3 [==============================] - 0s 23ms/step - loss: 0.6665 - acc: 0.5477 - val_loss: 0.6968 - val_acc: 0.4000\n",
            "Epoch 98/200\n",
            "3/3 [==============================] - 0s 23ms/step - loss: 0.6683 - acc: 0.6375 - val_loss: 0.7010 - val_acc: 0.4625\n",
            "Epoch 99/200\n",
            "3/3 [==============================] - 0s 23ms/step - loss: 0.6685 - acc: 0.5711 - val_loss: 0.6966 - val_acc: 0.4875\n",
            "Epoch 100/200\n",
            "3/3 [==============================] - 0s 25ms/step - loss: 0.6689 - acc: 0.5727 - val_loss: 0.6997 - val_acc: 0.5500\n",
            "Epoch 101/200\n",
            "3/3 [==============================] - 0s 26ms/step - loss: 0.6785 - acc: 0.5461 - val_loss: 0.6988 - val_acc: 0.5375\n",
            "Epoch 102/200\n",
            "3/3 [==============================] - 0s 23ms/step - loss: 0.6603 - acc: 0.6172 - val_loss: 0.6978 - val_acc: 0.4125\n",
            "Epoch 103/200\n",
            "3/3 [==============================] - 0s 23ms/step - loss: 0.6763 - acc: 0.6117 - val_loss: 0.7110 - val_acc: 0.5000\n",
            "Epoch 104/200\n",
            "3/3 [==============================] - 0s 23ms/step - loss: 0.6720 - acc: 0.5500 - val_loss: 0.6986 - val_acc: 0.4125\n",
            "Epoch 105/200\n",
            "3/3 [==============================] - 0s 27ms/step - loss: 0.6731 - acc: 0.6039 - val_loss: 0.7089 - val_acc: 0.5375\n",
            "Epoch 106/200\n",
            "3/3 [==============================] - 0s 22ms/step - loss: 0.6797 - acc: 0.5336 - val_loss: 0.7034 - val_acc: 0.5500\n",
            "Epoch 107/200\n",
            "3/3 [==============================] - 0s 21ms/step - loss: 0.6658 - acc: 0.5727 - val_loss: 0.6998 - val_acc: 0.3875\n",
            "Epoch 108/200\n",
            "3/3 [==============================] - 0s 22ms/step - loss: 0.6783 - acc: 0.5758 - val_loss: 0.7132 - val_acc: 0.5000\n",
            "Epoch 109/200\n",
            "3/3 [==============================] - 0s 26ms/step - loss: 0.6801 - acc: 0.5023 - val_loss: 0.6975 - val_acc: 0.4375\n",
            "Epoch 110/200\n",
            "3/3 [==============================] - 0s 22ms/step - loss: 0.6727 - acc: 0.5711 - val_loss: 0.7004 - val_acc: 0.5500\n",
            "Epoch 111/200\n",
            "3/3 [==============================] - 0s 21ms/step - loss: 0.6740 - acc: 0.5344 - val_loss: 0.7009 - val_acc: 0.5500\n",
            "Epoch 112/200\n",
            "3/3 [==============================] - 0s 23ms/step - loss: 0.6661 - acc: 0.5656 - val_loss: 0.6974 - val_acc: 0.4125\n",
            "Epoch 113/200\n",
            "3/3 [==============================] - 0s 22ms/step - loss: 0.6769 - acc: 0.6062 - val_loss: 0.7069 - val_acc: 0.5000\n",
            "Epoch 114/200\n",
            "3/3 [==============================] - 0s 21ms/step - loss: 0.6729 - acc: 0.5547 - val_loss: 0.6976 - val_acc: 0.4000\n",
            "Epoch 115/200\n",
            "3/3 [==============================] - 0s 21ms/step - loss: 0.6644 - acc: 0.6406 - val_loss: 0.7010 - val_acc: 0.5500\n",
            "Epoch 116/200\n",
            "3/3 [==============================] - 0s 23ms/step - loss: 0.6697 - acc: 0.5773 - val_loss: 0.7013 - val_acc: 0.5500\n",
            "Epoch 117/200\n",
            "3/3 [==============================] - 0s 23ms/step - loss: 0.6532 - acc: 0.5813 - val_loss: 0.6987 - val_acc: 0.4250\n",
            "Epoch 118/200\n",
            "3/3 [==============================] - 0s 24ms/step - loss: 0.6709 - acc: 0.6328 - val_loss: 0.7058 - val_acc: 0.4625\n",
            "Epoch 119/200\n",
            "3/3 [==============================] - 0s 23ms/step - loss: 0.6710 - acc: 0.5469 - val_loss: 0.6988 - val_acc: 0.4000\n",
            "Epoch 120/200\n",
            "3/3 [==============================] - 0s 22ms/step - loss: 0.6620 - acc: 0.6609 - val_loss: 0.7019 - val_acc: 0.5375\n",
            "Epoch 121/200\n",
            "3/3 [==============================] - 0s 24ms/step - loss: 0.6708 - acc: 0.5461 - val_loss: 0.7005 - val_acc: 0.4875\n",
            "Epoch 122/200\n",
            "3/3 [==============================] - 0s 23ms/step - loss: 0.6738 - acc: 0.5398 - val_loss: 0.7028 - val_acc: 0.3875\n",
            "Epoch 123/200\n",
            "3/3 [==============================] - 0s 22ms/step - loss: 0.6653 - acc: 0.6172 - val_loss: 0.7012 - val_acc: 0.4875\n",
            "Epoch 124/200\n",
            "3/3 [==============================] - 0s 24ms/step - loss: 0.6664 - acc: 0.5961 - val_loss: 0.7023 - val_acc: 0.4875\n",
            "Epoch 125/200\n",
            "3/3 [==============================] - 0s 24ms/step - loss: 0.6705 - acc: 0.5609 - val_loss: 0.7041 - val_acc: 0.3875\n",
            "Epoch 126/200\n",
            "3/3 [==============================] - 0s 22ms/step - loss: 0.6674 - acc: 0.6297 - val_loss: 0.7033 - val_acc: 0.3625\n",
            "Epoch 127/200\n",
            "3/3 [==============================] - 0s 26ms/step - loss: 0.6601 - acc: 0.6445 - val_loss: 0.7063 - val_acc: 0.4000\n",
            "Epoch 128/200\n",
            "3/3 [==============================] - 0s 23ms/step - loss: 0.6596 - acc: 0.6250 - val_loss: 0.7044 - val_acc: 0.4250\n",
            "Epoch 129/200\n",
            "3/3 [==============================] - 0s 22ms/step - loss: 0.6640 - acc: 0.5727 - val_loss: 0.7066 - val_acc: 0.4875\n",
            "Epoch 130/200\n",
            "3/3 [==============================] - 0s 23ms/step - loss: 0.6578 - acc: 0.5875 - val_loss: 0.7074 - val_acc: 0.4125\n",
            "Epoch 131/200\n",
            "3/3 [==============================] - 0s 21ms/step - loss: 0.6607 - acc: 0.6555 - val_loss: 0.7082 - val_acc: 0.4375\n",
            "Epoch 132/200\n",
            "3/3 [==============================] - 0s 23ms/step - loss: 0.6640 - acc: 0.6805 - val_loss: 0.7191 - val_acc: 0.5500\n",
            "Epoch 133/200\n",
            "3/3 [==============================] - 0s 21ms/step - loss: 0.6770 - acc: 0.5445 - val_loss: 0.7091 - val_acc: 0.4000\n",
            "Epoch 134/200\n",
            "3/3 [==============================] - 0s 22ms/step - loss: 0.6602 - acc: 0.5711 - val_loss: 0.7149 - val_acc: 0.3750\n",
            "Epoch 135/200\n",
            "3/3 [==============================] - 0s 21ms/step - loss: 0.6527 - acc: 0.6055 - val_loss: 0.7104 - val_acc: 0.4125\n",
            "Epoch 136/200\n",
            "3/3 [==============================] - 0s 23ms/step - loss: 0.6562 - acc: 0.5602 - val_loss: 0.7157 - val_acc: 0.4875\n",
            "Epoch 137/200\n",
            "3/3 [==============================] - 0s 22ms/step - loss: 0.6661 - acc: 0.6039 - val_loss: 0.7163 - val_acc: 0.3750\n",
            "Epoch 138/200\n",
            "3/3 [==============================] - 0s 22ms/step - loss: 0.6545 - acc: 0.5859 - val_loss: 0.7147 - val_acc: 0.3875\n",
            "Epoch 139/200\n",
            "3/3 [==============================] - 0s 21ms/step - loss: 0.6514 - acc: 0.6469 - val_loss: 0.7168 - val_acc: 0.4625\n",
            "Epoch 140/200\n",
            "3/3 [==============================] - 0s 26ms/step - loss: 0.6541 - acc: 0.5828 - val_loss: 0.7188 - val_acc: 0.4375\n",
            "Epoch 141/200\n",
            "3/3 [==============================] - 0s 25ms/step - loss: 0.6678 - acc: 0.5398 - val_loss: 0.7213 - val_acc: 0.4250\n",
            "Epoch 142/200\n",
            "3/3 [==============================] - 0s 25ms/step - loss: 0.6358 - acc: 0.6781 - val_loss: 0.7338 - val_acc: 0.5500\n",
            "Epoch 143/200\n",
            "3/3 [==============================] - 0s 24ms/step - loss: 0.6667 - acc: 0.5523 - val_loss: 0.7246 - val_acc: 0.3875\n",
            "Epoch 144/200\n",
            "3/3 [==============================] - 0s 24ms/step - loss: 0.6534 - acc: 0.6547 - val_loss: 0.7365 - val_acc: 0.4000\n",
            "Epoch 145/200\n",
            "3/3 [==============================] - 0s 25ms/step - loss: 0.6433 - acc: 0.6086 - val_loss: 0.7330 - val_acc: 0.4875\n",
            "Epoch 146/200\n",
            "3/3 [==============================] - 0s 24ms/step - loss: 0.6631 - acc: 0.5664 - val_loss: 0.7261 - val_acc: 0.4375\n",
            "Epoch 147/200\n",
            "3/3 [==============================] - 0s 24ms/step - loss: 0.6351 - acc: 0.6609 - val_loss: 0.7544 - val_acc: 0.5000\n",
            "Epoch 148/200\n",
            "3/3 [==============================] - 0s 27ms/step - loss: 0.6708 - acc: 0.5539 - val_loss: 0.7252 - val_acc: 0.4625\n",
            "Epoch 149/200\n",
            "3/3 [==============================] - 0s 24ms/step - loss: 0.6552 - acc: 0.5820 - val_loss: 0.7352 - val_acc: 0.5500\n",
            "Epoch 150/200\n",
            "3/3 [==============================] - 0s 26ms/step - loss: 0.6811 - acc: 0.5453 - val_loss: 0.7397 - val_acc: 0.4625\n",
            "Epoch 151/200\n",
            "3/3 [==============================] - 0s 22ms/step - loss: 0.6695 - acc: 0.5477 - val_loss: 0.7181 - val_acc: 0.4250\n",
            "Epoch 152/200\n",
            "3/3 [==============================] - 0s 23ms/step - loss: 0.6504 - acc: 0.6680 - val_loss: 0.7474 - val_acc: 0.5375\n",
            "Epoch 153/200\n",
            "3/3 [==============================] - 0s 23ms/step - loss: 0.7006 - acc: 0.5281 - val_loss: 0.7158 - val_acc: 0.4625\n",
            "Epoch 154/200\n",
            "3/3 [==============================] - 0s 22ms/step - loss: 0.6619 - acc: 0.6047 - val_loss: 0.7320 - val_acc: 0.4625\n",
            "Epoch 155/200\n",
            "3/3 [==============================] - 0s 25ms/step - loss: 0.6679 - acc: 0.5156 - val_loss: 0.7116 - val_acc: 0.4000\n",
            "Epoch 156/200\n",
            "3/3 [==============================] - 0s 22ms/step - loss: 0.6454 - acc: 0.6094 - val_loss: 0.7130 - val_acc: 0.4250\n",
            "Epoch 157/200\n",
            "3/3 [==============================] - 0s 23ms/step - loss: 0.6402 - acc: 0.6813 - val_loss: 0.7184 - val_acc: 0.3625\n",
            "Epoch 158/200\n",
            "3/3 [==============================] - 0s 21ms/step - loss: 0.6564 - acc: 0.5961 - val_loss: 0.7164 - val_acc: 0.4375\n",
            "Epoch 159/200\n",
            "3/3 [==============================] - 0s 22ms/step - loss: 0.6542 - acc: 0.6602 - val_loss: 0.7192 - val_acc: 0.4250\n",
            "Epoch 160/200\n",
            "3/3 [==============================] - 0s 23ms/step - loss: 0.6452 - acc: 0.6633 - val_loss: 0.7381 - val_acc: 0.4375\n",
            "Epoch 161/200\n",
            "3/3 [==============================] - 0s 22ms/step - loss: 0.6569 - acc: 0.5531 - val_loss: 0.7224 - val_acc: 0.4375\n",
            "Epoch 162/200\n",
            "3/3 [==============================] - 0s 24ms/step - loss: 0.6514 - acc: 0.6453 - val_loss: 0.7270 - val_acc: 0.4750\n",
            "Epoch 163/200\n",
            "3/3 [==============================] - 0s 24ms/step - loss: 0.6397 - acc: 0.6094 - val_loss: 0.7342 - val_acc: 0.3625\n",
            "Epoch 164/200\n",
            "3/3 [==============================] - 0s 24ms/step - loss: 0.6633 - acc: 0.5336 - val_loss: 0.7366 - val_acc: 0.3875\n",
            "Epoch 165/200\n",
            "3/3 [==============================] - 0s 24ms/step - loss: 0.6507 - acc: 0.5852 - val_loss: 0.7249 - val_acc: 0.4125\n",
            "Epoch 166/200\n",
            "3/3 [==============================] - 0s 23ms/step - loss: 0.6427 - acc: 0.5891 - val_loss: 0.7267 - val_acc: 0.4375\n",
            "Epoch 167/200\n",
            "3/3 [==============================] - 0s 22ms/step - loss: 0.6182 - acc: 0.6602 - val_loss: 0.7327 - val_acc: 0.3750\n",
            "Epoch 168/200\n",
            "3/3 [==============================] - 0s 23ms/step - loss: 0.6421 - acc: 0.6062 - val_loss: 0.7322 - val_acc: 0.4250\n",
            "Epoch 169/200\n",
            "3/3 [==============================] - 0s 22ms/step - loss: 0.6493 - acc: 0.6078 - val_loss: 0.7372 - val_acc: 0.4500\n",
            "Epoch 170/200\n",
            "3/3 [==============================] - 0s 24ms/step - loss: 0.6268 - acc: 0.6680 - val_loss: 0.7654 - val_acc: 0.4750\n",
            "Epoch 171/200\n",
            "3/3 [==============================] - 0s 23ms/step - loss: 0.6760 - acc: 0.5188 - val_loss: 0.7398 - val_acc: 0.3750\n",
            "Epoch 172/200\n",
            "3/3 [==============================] - 0s 23ms/step - loss: 0.6218 - acc: 0.6281 - val_loss: 0.7461 - val_acc: 0.5125\n",
            "Epoch 173/200\n",
            "3/3 [==============================] - 0s 22ms/step - loss: 0.6536 - acc: 0.5828 - val_loss: 0.7479 - val_acc: 0.3875\n",
            "Epoch 174/200\n",
            "3/3 [==============================] - 0s 21ms/step - loss: 0.6554 - acc: 0.6078 - val_loss: 0.7439 - val_acc: 0.3500\n",
            "Epoch 175/200\n",
            "3/3 [==============================] - 0s 24ms/step - loss: 0.6475 - acc: 0.6289 - val_loss: 0.7471 - val_acc: 0.5500\n",
            "Epoch 176/200\n",
            "3/3 [==============================] - 0s 22ms/step - loss: 0.6853 - acc: 0.5391 - val_loss: 0.7235 - val_acc: 0.4125\n",
            "Epoch 177/200\n",
            "3/3 [==============================] - 0s 22ms/step - loss: 0.6490 - acc: 0.6336 - val_loss: 0.7344 - val_acc: 0.3750\n",
            "Epoch 178/200\n",
            "3/3 [==============================] - 0s 21ms/step - loss: 0.6586 - acc: 0.5477 - val_loss: 0.7273 - val_acc: 0.4375\n",
            "Epoch 179/200\n",
            "3/3 [==============================] - 0s 21ms/step - loss: 0.6458 - acc: 0.5836 - val_loss: 0.7324 - val_acc: 0.4125\n",
            "Epoch 180/200\n",
            "3/3 [==============================] - 0s 25ms/step - loss: 0.6405 - acc: 0.6258 - val_loss: 0.7389 - val_acc: 0.4000\n",
            "Epoch 181/200\n",
            "3/3 [==============================] - 0s 23ms/step - loss: 0.6435 - acc: 0.6719 - val_loss: 0.7400 - val_acc: 0.4250\n",
            "Epoch 182/200\n",
            "3/3 [==============================] - 0s 22ms/step - loss: 0.6237 - acc: 0.7070 - val_loss: 0.7493 - val_acc: 0.3250\n",
            "Epoch 183/200\n",
            "3/3 [==============================] - 0s 21ms/step - loss: 0.6396 - acc: 0.5961 - val_loss: 0.7476 - val_acc: 0.4250\n",
            "Epoch 184/200\n",
            "3/3 [==============================] - 0s 23ms/step - loss: 0.6245 - acc: 0.6672 - val_loss: 0.7512 - val_acc: 0.4125\n",
            "Epoch 185/200\n",
            "3/3 [==============================] - 0s 22ms/step - loss: 0.6181 - acc: 0.7555 - val_loss: 0.7561 - val_acc: 0.4125\n",
            "Epoch 186/200\n",
            "3/3 [==============================] - 0s 23ms/step - loss: 0.6214 - acc: 0.6578 - val_loss: 0.7607 - val_acc: 0.4000\n",
            "Epoch 187/200\n",
            "3/3 [==============================] - 0s 22ms/step - loss: 0.6248 - acc: 0.6836 - val_loss: 0.7622 - val_acc: 0.4375\n",
            "Epoch 188/200\n",
            "3/3 [==============================] - 0s 25ms/step - loss: 0.6231 - acc: 0.6727 - val_loss: 0.7665 - val_acc: 0.4125\n",
            "Epoch 189/200\n",
            "3/3 [==============================] - 0s 24ms/step - loss: 0.6293 - acc: 0.7008 - val_loss: 0.7708 - val_acc: 0.4125\n",
            "Epoch 190/200\n",
            "3/3 [==============================] - 0s 27ms/step - loss: 0.6512 - acc: 0.5711 - val_loss: 0.7715 - val_acc: 0.4250\n",
            "Epoch 191/200\n",
            "3/3 [==============================] - 0s 23ms/step - loss: 0.6093 - acc: 0.6852 - val_loss: 0.8001 - val_acc: 0.4000\n",
            "Epoch 192/200\n",
            "3/3 [==============================] - 0s 23ms/step - loss: 0.6623 - acc: 0.5164 - val_loss: 0.7721 - val_acc: 0.4500\n",
            "Epoch 193/200\n",
            "3/3 [==============================] - 0s 23ms/step - loss: 0.6206 - acc: 0.6758 - val_loss: 0.7829 - val_acc: 0.3125\n",
            "Epoch 194/200\n",
            "3/3 [==============================] - 0s 27ms/step - loss: 0.6101 - acc: 0.6719 - val_loss: 0.7869 - val_acc: 0.4750\n",
            "Epoch 195/200\n",
            "3/3 [==============================] - 0s 25ms/step - loss: 0.6953 - acc: 0.5172 - val_loss: 0.7759 - val_acc: 0.4500\n",
            "Epoch 196/200\n",
            "3/3 [==============================] - 0s 26ms/step - loss: 0.6331 - acc: 0.6578 - val_loss: 0.8077 - val_acc: 0.4000\n",
            "Epoch 197/200\n",
            "3/3 [==============================] - 0s 23ms/step - loss: 0.6561 - acc: 0.5805 - val_loss: 0.7784 - val_acc: 0.4500\n",
            "Epoch 198/200\n",
            "3/3 [==============================] - 0s 23ms/step - loss: 0.6646 - acc: 0.6102 - val_loss: 0.7874 - val_acc: 0.5125\n",
            "Epoch 199/200\n",
            "3/3 [==============================] - 0s 22ms/step - loss: 0.6587 - acc: 0.5727 - val_loss: 0.7913 - val_acc: 0.3750\n",
            "Epoch 200/200\n",
            "3/3 [==============================] - 0s 22ms/step - loss: 0.6201 - acc: 0.6188 - val_loss: 0.7680 - val_acc: 0.4625\n"
          ],
          "name": "stdout"
        }
      ]
    },
    {
      "cell_type": "code",
      "metadata": {
        "id": "Zh9EfuLnMyeo",
        "colab": {
          "base_uri": "https://localhost:8080/",
          "height": 573
        },
        "outputId": "713d26ba-c6b4-46f6-da0c-8bd8865517f4"
      },
      "source": [
        "figure(history, ['train', 'test'])"
      ],
      "execution_count": null,
      "outputs": [
        {
          "output_type": "display_data",
          "data": {
            "image/png": "[encoded data removed]",
            "text/plain": [
              "<Figure size 432x288 with 1 Axes>"
            ]
          },
          "metadata": {
            "tags": [],
            "needs_background": "light"
          }
        },
        {
          "output_type": "display_data",
          "data": {
            "image/png": "[encoded data removed]",
            "text/plain": [
              "<Figure size 432x288 with 1 Axes>"
            ]
          },
          "metadata": {
            "tags": [],
            "needs_background": "light"
          }
        }
      ]
    },
    {
      "cell_type": "code",
      "metadata": {
        "id": "rJov7oCrOf3-",
        "colab": {
          "base_uri": "https://localhost:8080/",
          "height": 338
        },
        "outputId": "5904bd6d-3aa6-4da0-d78d-6c01fb64e20c"
      },
      "source": [
        "plt.plot(model.predict_classes(x_test))\n",
        "plt.plot(y_test_orig)\n"
      ],
      "execution_count": null,
      "outputs": [
        {
          "output_type": "stream",
          "text": [
            "/usr/local/lib/python3.7/dist-packages/tensorflow/python/keras/engine/sequential.py:450: UserWarning: `model.predict_classes()` is deprecated and will be removed after 2021-01-01. Please use instead:* `np.argmax(model.predict(x), axis=-1)`,   if your model does multi-class classification   (e.g. if it uses a `softmax` last-layer activation).* `(model.predict(x) > 0.5).astype(\"int32\")`,   if your model does binary classification   (e.g. if it uses a `sigmoid` last-layer activation).\n",
            "  warnings.warn('`model.predict_classes()` is deprecated and '\n"
          ],
          "name": "stderr"
        },
        {
          "output_type": "execute_result",
          "data": {
            "text/plain": [
              "[<matplotlib.lines.Line2D at 0x7f2d903538d0>]"
            ]
          },
          "metadata": {
            "tags": []
          },
          "execution_count": 170
        },
        {
          "output_type": "display_data",
          "data": {
            "image/png": "[encoded data removed]",
            "text/plain": [
              "<Figure size 432x288 with 1 Axes>"
            ]
          },
          "metadata": {
            "tags": [],
            "needs_background": "light"
          }
        }
      ]
    },
    {
      "cell_type": "code",
      "metadata": {
        "id": "Ou41xGbinvim"
      },
      "source": [
        ""
      ],
      "execution_count": null,
      "outputs": []
    }
  ]
}