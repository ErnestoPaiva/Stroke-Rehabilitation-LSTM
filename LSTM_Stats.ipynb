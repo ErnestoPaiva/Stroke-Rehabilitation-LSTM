{
  "nbformat": 4,
  "nbformat_minor": 0,
  "metadata": {
    "colab": {
      "name": "Raw.ipynb",
      "provenance": [],
      "collapsed_sections": []
    },
    "kernelspec": {
      "name": "python3",
      "display_name": "Python 3"
    },
    "language_info": {
      "name": "python"
    },
    "accelerator": "GPU"
  },
  "cells": [
    {
      "cell_type": "code",
      "metadata": {
        "id": "cdJONGq2qG5q"
      },
      "source": [
        "# -*- coding: utf-8 -*-\n",
        "\"\"\"\n",
        "This takes the data for one ppt in one session and organises it into\n",
        "two arrays, one for left and one for right motor imagery data. \n",
        "All data not related to the MI trials is disregarded.\n",
        "\"\"\"\n",
        "import numpy as np\n",
        "import glob\n",
        "import tensorflow as tf\n",
        "from sklearn.preprocessing import MinMaxScaler\n",
        "from tensorflow.keras.activations import sigmoid, relu\n",
        "from tensorflow.keras.layers import Dense, Dropout\n",
        "from tensorflow.keras.callbacks import EarlyStopping\n",
        "from tensorflow.keras.layers import LSTM, Bidirectional\n",
        "\n",
        "import scipy.io as spio\n",
        "import matplotlib.pyplot as plt\n",
        "from scipy.stats import skew, kurtosis\n"
      ],
      "execution_count": null,
      "outputs": []
    },
    {
      "cell_type": "code",
      "metadata": {
        "id": "g8I_WRDeOZZC"
      },
      "source": [
        "def figure(History, legend):\n",
        "  ####################### PLOT TRAINING VS VALIDATION ######################\n",
        "  ########## Accuracy ###########\n",
        "  acc = History.history['acc']\n",
        "  val_acc = History.history['val_acc']\n",
        "  loss = History.history['loss']\n",
        "  val_loss = History.history['val_loss']\n",
        "\n",
        "  plt.plot(acc)\n",
        "  plt.plot(val_acc)\n",
        "  plt.title('model accuracy')\n",
        "  plt.ylabel('accuracy')\n",
        "  plt.xlabel('epoch')\n",
        "  plt.legend(legend, loc='upper left')\n",
        "  plt.grid()\n",
        "  plt.show()\n",
        "\n",
        "  ########## Loss ###########\n",
        "  plt.plot(loss)\n",
        "  plt.plot(val_loss)\n",
        "  plt.title('model loss')\n",
        "  plt.ylabel('loss')\n",
        "  plt.xlabel('epoch')\n",
        "  try:\n",
        "    loss_no_reg = History.history['categorical_crossentropy']\n",
        "    val_loss_no_reg = History.history['val_categorical_crossentropy']\n",
        "    plt.plot(loss_no_reg)\n",
        "    plt.plot(val_loss_no_reg)\n",
        "    plt.legend(legend + [legend[0]+' sin reg', legend[1]+' sin reg'], loc='upper left')\n",
        "  except:\n",
        "    plt.legend(legend, loc='upper left')\n",
        "\n",
        "  plt.grid()\n",
        "  plt.show()"
      ],
      "execution_count": null,
      "outputs": []
    },
    {
      "cell_type": "code",
      "metadata": {
        "colab": {
          "resources": {
            "http://localhost:8080/nbextensions/google.colab/files.js": {
              "data": "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",
              "ok": true,
              "headers": [
                [
                  "content-type",
                  "application/javascript"
                ]
              ],
              "status": 200,
              "status_text": ""
            }
          },
          "base_uri": "https://localhost:8080/",
          "height": 456
        },
        "id": "Osbs-jT8qH1J",
        "outputId": "2848c76e-551a-46ae-ded8-0181030d86a9"
      },
      "source": [
        "from google.colab import files\n",
        "uploaded = files.upload()"
      ],
      "execution_count": null,
      "outputs": [
        {
          "output_type": "display_data",
          "data": {
            "text/html": [
              "\n",
              "     <input type=\"file\" id=\"files-e71a5f8d-58aa-4038-b1ec-9198b0220260\" name=\"files[]\" multiple disabled\n",
              "        style=\"border:none\" />\n",
              "     <output id=\"result-e71a5f8d-58aa-4038-b1ec-9198b0220260\">\n",
              "      Upload widget is only available when the cell has been executed in the\n",
              "      current browser session. Please rerun this cell to enable.\n",
              "      </output>\n",
              "      <script src=\"/nbextensions/google.colab/files.js\"></script> "
            ],
            "text/plain": [
              "<IPython.core.display.HTML object>"
            ]
          },
          "metadata": {
            "tags": []
          }
        },
        {
          "output_type": "stream",
          "text": [
            "Saving P1_post_test.mat to P1_post_test.mat\n",
            "Saving P1_post_training.mat to P1_post_training.mat\n",
            "Saving P1_pre_test.mat to P1_pre_test.mat\n",
            "Saving P1_pre_training.mat to P1_pre_training.mat\n",
            "Saving P2_post_test.mat to P2_post_test.mat\n",
            "Saving P2_post_training.mat to P2_post_training.mat\n",
            "Saving P2_pre_test.mat to P2_pre_test.mat\n",
            "Saving P2_pre_training.mat to P2_pre_training.mat\n",
            "Saving P3_post_test.mat to P3_post_test.mat\n",
            "Saving P3_post_training.mat to P3_post_training.mat\n",
            "Saving P3_pre_test.mat to P3_pre_test.mat\n",
            "Saving P3_pre_training.mat to P3_pre_training.mat\n"
          ],
          "name": "stdout"
        }
      ]
    },
    {
      "cell_type": "code",
      "metadata": {
        "id": "CcvYbN9eqk-Q"
      },
      "source": [
        "# #change path\n",
        "path_TRAIN = r'/content/P3_post_training.mat' # use your path\n",
        "path_test = r'/content/P3_post_test.mat' # use your path\n",
        "path = r'/content'\n",
        "files_TRAIN = glob.glob(path + \"/*training.mat\")\n",
        "files_test = glob.glob(path + \"/*test.mat\")\n",
        "\n",
        "mat_TRAIN = spio.loadmat(path_TRAIN, squeeze_me=True)\n",
        "mat_test = spio.loadmat(path_test, squeeze_me=True)\n"
      ],
      "execution_count": null,
      "outputs": []
    },
    {
      "cell_type": "code",
      "metadata": {
        "id": "1EvDehMahYqj"
      },
      "source": [
        "def extract(mat):\n",
        "  # path = 'C:\\Users\\Rosana\\Documents\\GTEC\\stroke\\P1_pre_training.mat'\n",
        "  # mat = spio.loadmat(path, squeeze_me=True)\n",
        "\n",
        "  print(\"The keys of this data dictionary for this ppt are :\", mat.keys())\n",
        "  triggers = mat['trig']\n",
        "  fs = mat['fs']\n",
        "  eeg_data = mat['y']\n",
        "  print(\"There are \", len(triggers), \" triggers\")\n",
        "  print(max(triggers)) \n",
        "  print(\"sampling frequency is \", mat['fs'])\n",
        "  print(\"Length of data set is \", len(eeg_data))\n",
        "\n",
        "\n",
        "\n",
        "\n",
        "  # get indices that indicate change in blocks, such as 000s then 1111s in order to split these\n",
        "  v=np.asarray(triggers)\n",
        "  indices = np.where(np.diff(v,prepend=np.nan))[0]\n",
        "  #print(indices)\n",
        "\n",
        "  listvalues = []\n",
        "  listclasses = []\n",
        "  ind = 0\n",
        "  for ind in range(0, len(indices)-1):\n",
        "      listclasses.append(triggers[indices[ind]]) # means we know which class each block relates to\n",
        "      listvalues.append(eeg_data[indices[ind]:indices[ind+1]]) # gets the block as a subset\n",
        "\n",
        "\n",
        "  # splits the data into the two separate conditions left and right, removes 0 triggers\n",
        "  # this also means each trial should now be equal length so can be put into an array\n",
        "  left_class = []\n",
        "  left_value = []\n",
        "  right_class = []\n",
        "  right_value = []\n",
        "\n",
        "  for i,x in enumerate(listclasses):\n",
        "      if x ==1:\n",
        "          left_class.append(listclasses[i])\n",
        "          left_value.append(listvalues[i])\n",
        "      elif x ==-1:\n",
        "          right_class.append(listclasses[i])\n",
        "          right_value.append(listvalues[i])\n",
        "          \n",
        "  # only keep data with relevant time points, 2 till 8 seconds\n",
        "  start_point = 2*fs\n",
        "  end_point = 8*fs\n",
        "  left_value_trial = []\n",
        "  right_value_trial = []\n",
        "  for trial in left_value:\n",
        "      left_value_trial.append(trial[start_point:end_point])\n",
        "  for trial in right_value:\n",
        "      right_value_trial.append(trial[start_point:end_point])\n",
        "          \n",
        "\n",
        "  left_data = np.asarray(left_value_trial)\n",
        "  right_data = np.asarray(right_value_trial)\n",
        "  print(left_data.shape, right_data.shape)\n",
        "  left_labels = np.ones(len(left_data))\n",
        "  right_labels = np.zeros(len(right_data))\n",
        "  print(right_labels)\n",
        "\n",
        "  return left_data, left_labels, right_data, right_labels"
      ],
      "execution_count": null,
      "outputs": []
    },
    {
      "cell_type": "code",
      "metadata": {
        "colab": {
          "base_uri": "https://localhost:8080/"
        },
        "id": "dH89o_zLAva4",
        "outputId": "43ada1f3-f116-4140-a963-24d523185155"
      },
      "source": [
        "left_data, left_labels, right_data, right_labels = extract(mat_TRAIN)"
      ],
      "execution_count": null,
      "outputs": [
        {
          "output_type": "stream",
          "text": [
            "The keys of this data dictionary for this ppt are : dict_keys(['__header__', '__version__', '__globals__', 'fs', 'trig', 'y'])\n",
            "There are  206504  triggers\n",
            "1\n",
            "sampling frequency is  256\n",
            "Length of data set is  206504\n",
            "(40, 1536, 16) (40, 1536, 16)\n",
            "[0. 0. 0. 0. 0. 0. 0. 0. 0. 0. 0. 0. 0. 0. 0. 0. 0. 0. 0. 0. 0. 0. 0. 0.\n",
            " 0. 0. 0. 0. 0. 0. 0. 0. 0. 0. 0. 0. 0. 0. 0. 0.]\n"
          ],
          "name": "stdout"
        }
      ]
    },
    {
      "cell_type": "code",
      "metadata": {
        "colab": {
          "base_uri": "https://localhost:8080/"
        },
        "id": "WTvaeo_qv5Nf",
        "outputId": "bcf8047b-89ff-48c2-8a49-b95a27562360"
      },
      "source": [
        "print('X right: (samples, time, features) =', right_data.shape)\n",
        "print('Y right: (sample labels) =', right_labels.shape)\n",
        "print('X left: (samples, time, features) =', left_data.shape)\n",
        "print('Y left: (sample labels) =', left_labels.shape)\n"
      ],
      "execution_count": null,
      "outputs": [
        {
          "output_type": "stream",
          "text": [
            "X right: (samples, time, features) = (40, 1536, 16)\n",
            "Y right: (sample labels) = (40,)\n",
            "X left: (samples, time, features) = (40, 1536, 16)\n",
            "Y left: (sample labels) = (40,)\n"
          ],
          "name": "stdout"
        }
      ]
    },
    {
      "cell_type": "code",
      "metadata": {
        "id": "Davq0j8Gpy34"
      },
      "source": [
        "x_TRAIN_orig = np.concatenate((right_data, left_data), axis = 0)\n",
        "y_TRAIN_orig = np.concatenate((right_labels, left_labels), axis = 0)"
      ],
      "execution_count": null,
      "outputs": []
    },
    {
      "cell_type": "code",
      "metadata": {
        "colab": {
          "base_uri": "https://localhost:8080/"
        },
        "id": "cbk3cKB7ti5o",
        "outputId": "9fc89574-424a-4401-a8be-3df9f80d5ad6"
      },
      "source": [
        "left_data, left_labels, right_data, right_labels = extract(mat_test)\n"
      ],
      "execution_count": null,
      "outputs": [
        {
          "output_type": "stream",
          "text": [
            "The keys of this data dictionary for this ppt are : dict_keys(['__header__', '__version__', '__globals__', 'fs', 'trig', 'y'])\n",
            "There are  218432  triggers\n",
            "1\n",
            "sampling frequency is  256\n",
            "Length of data set is  218432\n",
            "(40, 1536, 16) (40, 1536, 16)\n",
            "[0. 0. 0. 0. 0. 0. 0. 0. 0. 0. 0. 0. 0. 0. 0. 0. 0. 0. 0. 0. 0. 0. 0. 0.\n",
            " 0. 0. 0. 0. 0. 0. 0. 0. 0. 0. 0. 0. 0. 0. 0. 0.]\n"
          ],
          "name": "stdout"
        }
      ]
    },
    {
      "cell_type": "code",
      "metadata": {
        "id": "Z2xrSl0rBHU8"
      },
      "source": [
        "x_test_orig = np.concatenate((right_data, left_data), axis = 0)\n",
        "y_test_orig = np.concatenate((right_labels, left_labels), axis = 0)"
      ],
      "execution_count": null,
      "outputs": []
    },
    {
      "cell_type": "code",
      "metadata": {
        "id": "DkaESAeQSfY1"
      },
      "source": [
        "def windowed(x,windows_size, overlap_factor = 0):\n",
        "  fs = 256\n",
        "  pieces = len(x[0])//windows_size\n",
        "  temp1 = []\n",
        "  temp2 = []\n",
        "  overlap = int(windows_size*overlap_factor)\n",
        "\n",
        "  for j in range(len(x)):\n",
        "    temp1 = []\n",
        "    i = 0\n",
        "    init_index = 0 \n",
        "    last_index = windows_size\n",
        "    while len(x[j][init_index:last_index]) == windows_size:\n",
        "      temp_data = x[j][init_index:last_index]#[0:-1:20,:]\n",
        "      temp1.append(np.concatenate((np.mean(temp_data, axis = 0), np.std(temp_data, axis = 0), skew(temp_data, axis = 0), kurtosis(temp_data, axis = 0)), axis = 0) ) #, np.var(temp_data, axis = 0) ])\n",
        "      #temp1.append(temp_data )\n",
        "      init_index = init_index + windows_size - overlap\n",
        "      last_index = last_index + windows_size - overlap\n",
        "      \n",
        "    temp2.append(np.asarray(temp1).reshape([-1,32]))\n",
        "    #temp2.append(np.asarray(temp1))\n",
        "    \n",
        "  return np.asarray(temp2)\n",
        "\n"
      ],
      "execution_count": null,
      "outputs": []
    },
    {
      "cell_type": "code",
      "metadata": {
        "id": "SUd7DGkhGKoQ"
      },
      "source": [
        "x_TRAIN_orig2 = np.squeeze(windowed(x_TRAIN_orig, 500))\n",
        "x_test_orig2 = np.squeeze(windowed(x_test_orig, 500))\n",
        "\n",
        "scaler = MinMaxScaler()\n",
        "max_value = np.max(x_TRAIN_orig2, axis=(0,1))\n",
        "min_value = np.min(x_TRAIN_orig2, axis=(0,1))\n",
        "\n",
        "x_TRAIN = (x_TRAIN_orig2-min_value)/(max_value-min_value)\n",
        "x_test = (x_test_orig2-min_value)/(max_value-min_value)\n"
      ],
      "execution_count": null,
      "outputs": []
    },
    {
      "cell_type": "code",
      "metadata": {
        "colab": {
          "base_uri": "https://localhost:8080/"
        },
        "id": "pVEn1O8nwZta",
        "outputId": "7cdd547f-0ce8-4a14-9d2c-a18eab5251f4"
      },
      "source": [
        "x_TRAIN_orig.shape"
      ],
      "execution_count": null,
      "outputs": [
        {
          "output_type": "execute_result",
          "data": {
            "text/plain": [
              "(80, 1536, 16)"
            ]
          },
          "metadata": {
            "tags": []
          },
          "execution_count": 116
        }
      ]
    },
    {
      "cell_type": "code",
      "metadata": {
        "colab": {
          "base_uri": "https://localhost:8080/"
        },
        "id": "kpxCUlEFgwft",
        "outputId": "882f0d8c-6ef7-404d-d4c9-f765b9f1748f"
      },
      "source": [
        "x_TRAIN_orig2.shape"
      ],
      "execution_count": null,
      "outputs": [
        {
          "output_type": "execute_result",
          "data": {
            "text/plain": [
              "(80, 6, 32)"
            ]
          },
          "metadata": {
            "tags": []
          },
          "execution_count": 117
        }
      ]
    },
    {
      "cell_type": "code",
      "metadata": {
        "colab": {
          "base_uri": "https://localhost:8080/",
          "height": 283
        },
        "id": "Kf_pUdu4s_Sd",
        "outputId": "ba7400a3-30fd-4e9d-9421-20cbd3c8053f"
      },
      "source": [
        "plt.plot(y_TRAIN_orig)"
      ],
      "execution_count": null,
      "outputs": [
        {
          "output_type": "execute_result",
          "data": {
            "text/plain": [
              "[<matplotlib.lines.Line2D at 0x7f73541d6090>]"
            ]
          },
          "metadata": {
            "tags": []
          },
          "execution_count": 62
        },
        {
          "output_type": "display_data",
          "data": {
            "image/png": "[encoded data removed]",
            "text/plain": [
              "<Figure size 432x288 with 1 Axes>"
            ]
          },
          "metadata": {
            "tags": [],
            "needs_background": "light"
          }
        }
      ]
    },
    {
      "cell_type": "code",
      "metadata": {
        "colab": {
          "base_uri": "https://localhost:8080/"
        },
        "id": "iXUYHCepIQFh",
        "outputId": "49941a96-adde-42a1-99c1-e36bad803041"
      },
      "source": [
        "np.max(x_test)"
      ],
      "execution_count": null,
      "outputs": [
        {
          "output_type": "execute_result",
          "data": {
            "text/plain": [
              "4.814260755615846"
            ]
          },
          "metadata": {
            "tags": []
          },
          "execution_count": 63
        }
      ]
    },
    {
      "cell_type": "code",
      "metadata": {
        "colab": {
          "base_uri": "https://localhost:8080/"
        },
        "id": "uoNoCWMMBLH6",
        "outputId": "ddde37ae-b0c1-4543-b1b8-1e3fb918d1dc"
      },
      "source": [
        "model = tf.keras.models.Sequential([\n",
        "  Bidirectional(tf.keras.layers.LSTM(2, return_sequences=True), input_shape=(x_TRAIN.shape[1],x_TRAIN.shape[2]) ),\n",
        "  Bidirectional(tf.keras.layers.LSTM(2, return_sequences=True)),\n",
        "  Bidirectional(tf.keras.layers.LSTM(2)),\n",
        "  tf.keras.layers.Dense(1, activation = sigmoid),\n",
        "])\n",
        "\n",
        "lr_schedule = tf.keras.callbacks.LearningRateScheduler(\n",
        "    lambda epoch: 1e-6 * 10**(epoch / 20))\n",
        "optimizer = tf.keras.optimizers.Adam(lr=1e-6)\n",
        "model.compile(loss='binary_crossentropy',\n",
        "              optimizer=optimizer,\n",
        "              metrics=[\"acc\"])\n",
        "history = model.fit(x_TRAIN, y_TRAIN_orig, epochs=100, callbacks=[lr_schedule])"
      ],
      "execution_count": null,
      "outputs": [
        {
          "output_type": "stream",
          "text": [
            "Epoch 1/100\n",
            "3/3 [==============================] - 7s 12ms/step - loss: 0.6932 - acc: 0.5156\n",
            "Epoch 2/100\n",
            "3/3 [==============================] - 0s 11ms/step - loss: 0.6932 - acc: 0.5156\n",
            "Epoch 3/100\n",
            "3/3 [==============================] - 0s 11ms/step - loss: 0.6927 - acc: 0.5352\n",
            "Epoch 4/100\n",
            "3/3 [==============================] - 0s 12ms/step - loss: 0.6936 - acc: 0.5000\n",
            "Epoch 5/100\n",
            "3/3 [==============================] - 0s 11ms/step - loss: 0.6942 - acc: 0.4805\n",
            "Epoch 6/100\n",
            "3/3 [==============================] - 0s 11ms/step - loss: 0.6933 - acc: 0.5117\n",
            "Epoch 7/100\n",
            "3/3 [==============================] - 0s 11ms/step - loss: 0.6937 - acc: 0.4961\n",
            "Epoch 8/100\n",
            "3/3 [==============================] - 0s 12ms/step - loss: 0.6937 - acc: 0.5000\n",
            "Epoch 9/100\n",
            "3/3 [==============================] - 0s 10ms/step - loss: 0.6934 - acc: 0.5039\n",
            "Epoch 10/100\n",
            "3/3 [==============================] - 0s 12ms/step - loss: 0.6935 - acc: 0.5078\n",
            "Epoch 11/100\n",
            "3/3 [==============================] - 0s 16ms/step - loss: 0.6945 - acc: 0.4688\n",
            "Epoch 12/100\n",
            "3/3 [==============================] - 0s 16ms/step - loss: 0.6940 - acc: 0.4844\n",
            "Epoch 13/100\n",
            "3/3 [==============================] - 0s 11ms/step - loss: 0.6932 - acc: 0.5117\n",
            "Epoch 14/100\n",
            "3/3 [==============================] - 0s 11ms/step - loss: 0.6935 - acc: 0.5039\n",
            "Epoch 15/100\n",
            "3/3 [==============================] - 0s 11ms/step - loss: 0.6932 - acc: 0.5156\n",
            "Epoch 16/100\n",
            "3/3 [==============================] - 0s 11ms/step - loss: 0.6938 - acc: 0.4922\n",
            "Epoch 17/100\n",
            "3/3 [==============================] - 0s 11ms/step - loss: 0.6933 - acc: 0.5078\n",
            "Epoch 18/100\n",
            "3/3 [==============================] - 0s 11ms/step - loss: 0.6940 - acc: 0.4883\n",
            "Epoch 19/100\n",
            "3/3 [==============================] - 0s 10ms/step - loss: 0.6937 - acc: 0.4922\n",
            "Epoch 20/100\n",
            "3/3 [==============================] - 0s 11ms/step - loss: 0.6945 - acc: 0.4766\n",
            "Epoch 21/100\n",
            "3/3 [==============================] - 0s 12ms/step - loss: 0.6936 - acc: 0.4961\n",
            "Epoch 22/100\n",
            "3/3 [==============================] - 0s 11ms/step - loss: 0.6939 - acc: 0.4883\n",
            "Epoch 23/100\n",
            "3/3 [==============================] - 0s 11ms/step - loss: 0.6944 - acc: 0.4688\n",
            "Epoch 24/100\n",
            "3/3 [==============================] - 0s 13ms/step - loss: 0.6940 - acc: 0.4805\n",
            "Epoch 25/100\n",
            "3/3 [==============================] - 0s 11ms/step - loss: 0.6945 - acc: 0.4688\n",
            "Epoch 26/100\n",
            "3/3 [==============================] - 0s 12ms/step - loss: 0.6940 - acc: 0.4805\n",
            "Epoch 27/100\n",
            "3/3 [==============================] - 0s 11ms/step - loss: 0.6928 - acc: 0.5273\n",
            "Epoch 28/100\n",
            "3/3 [==============================] - 0s 11ms/step - loss: 0.6936 - acc: 0.5039\n",
            "Epoch 29/100\n",
            "3/3 [==============================] - 0s 11ms/step - loss: 0.6931 - acc: 0.5117\n",
            "Epoch 30/100\n",
            "3/3 [==============================] - 0s 11ms/step - loss: 0.6927 - acc: 0.5312\n",
            "Epoch 31/100\n",
            "3/3 [==============================] - 0s 13ms/step - loss: 0.6931 - acc: 0.5156\n",
            "Epoch 32/100\n",
            "3/3 [==============================] - 0s 11ms/step - loss: 0.6925 - acc: 0.5469\n",
            "Epoch 33/100\n",
            "3/3 [==============================] - 0s 11ms/step - loss: 0.6942 - acc: 0.4766\n",
            "Epoch 34/100\n",
            "3/3 [==============================] - 0s 12ms/step - loss: 0.6947 - acc: 0.4570\n",
            "Epoch 35/100\n",
            "3/3 [==============================] - 0s 11ms/step - loss: 0.6933 - acc: 0.5039\n",
            "Epoch 36/100\n",
            "3/3 [==============================] - 0s 11ms/step - loss: 0.6938 - acc: 0.4922\n",
            "Epoch 37/100\n",
            "3/3 [==============================] - 0s 11ms/step - loss: 0.6931 - acc: 0.5156\n",
            "Epoch 38/100\n",
            "3/3 [==============================] - 0s 11ms/step - loss: 0.6939 - acc: 0.4844\n",
            "Epoch 39/100\n",
            "3/3 [==============================] - 0s 11ms/step - loss: 0.6942 - acc: 0.4766\n",
            "Epoch 40/100\n",
            "3/3 [==============================] - 0s 11ms/step - loss: 0.6931 - acc: 0.5195\n",
            "Epoch 41/100\n",
            "3/3 [==============================] - 0s 11ms/step - loss: 0.6946 - acc: 0.4531\n",
            "Epoch 42/100\n",
            "3/3 [==============================] - 0s 11ms/step - loss: 0.6944 - acc: 0.4727\n",
            "Epoch 43/100\n",
            "3/3 [==============================] - 0s 11ms/step - loss: 0.6938 - acc: 0.4961\n",
            "Epoch 44/100\n",
            "3/3 [==============================] - 0s 12ms/step - loss: 0.6942 - acc: 0.4688\n",
            "Epoch 45/100\n",
            "3/3 [==============================] - 0s 14ms/step - loss: 0.6938 - acc: 0.4922\n",
            "Epoch 46/100\n",
            "3/3 [==============================] - 0s 11ms/step - loss: 0.6930 - acc: 0.5273\n",
            "Epoch 47/100\n",
            "3/3 [==============================] - 0s 11ms/step - loss: 0.6937 - acc: 0.4883\n",
            "Epoch 48/100\n",
            "3/3 [==============================] - 0s 12ms/step - loss: 0.6943 - acc: 0.4766\n",
            "Epoch 49/100\n",
            "3/3 [==============================] - 0s 12ms/step - loss: 0.6935 - acc: 0.5000\n",
            "Epoch 50/100\n",
            "3/3 [==============================] - 0s 12ms/step - loss: 0.6941 - acc: 0.4688\n",
            "Epoch 51/100\n",
            "3/3 [==============================] - 0s 11ms/step - loss: 0.6933 - acc: 0.5000\n",
            "Epoch 52/100\n",
            "3/3 [==============================] - 0s 11ms/step - loss: 0.6932 - acc: 0.5078\n",
            "Epoch 53/100\n",
            "3/3 [==============================] - 0s 11ms/step - loss: 0.6936 - acc: 0.4961\n",
            "Epoch 54/100\n",
            "3/3 [==============================] - 0s 11ms/step - loss: 0.6932 - acc: 0.5039\n",
            "Epoch 55/100\n",
            "3/3 [==============================] - 0s 11ms/step - loss: 0.6930 - acc: 0.5156\n",
            "Epoch 56/100\n",
            "3/3 [==============================] - 0s 11ms/step - loss: 0.6929 - acc: 0.5156\n",
            "Epoch 57/100\n",
            "3/3 [==============================] - 0s 11ms/step - loss: 0.6939 - acc: 0.4727\n",
            "Epoch 58/100\n",
            "3/3 [==============================] - 0s 11ms/step - loss: 0.6931 - acc: 0.5039\n",
            "Epoch 59/100\n",
            "3/3 [==============================] - 0s 12ms/step - loss: 0.6926 - acc: 0.5273\n",
            "Epoch 60/100\n",
            "3/3 [==============================] - 0s 11ms/step - loss: 0.6934 - acc: 0.4844\n",
            "Epoch 61/100\n",
            "3/3 [==============================] - 0s 11ms/step - loss: 0.6927 - acc: 0.5234\n",
            "Epoch 62/100\n",
            "3/3 [==============================] - 0s 12ms/step - loss: 0.6932 - acc: 0.4844\n",
            "Epoch 63/100\n",
            "3/3 [==============================] - 0s 11ms/step - loss: 0.6930 - acc: 0.5039\n",
            "Epoch 64/100\n",
            "3/3 [==============================] - 0s 11ms/step - loss: 0.6935 - acc: 0.4633\n",
            "Epoch 65/100\n",
            "3/3 [==============================] - 0s 11ms/step - loss: 0.6927 - acc: 0.5500\n",
            "Epoch 66/100\n",
            "3/3 [==============================] - 0s 11ms/step - loss: 0.6927 - acc: 0.5805\n",
            "Epoch 67/100\n",
            "3/3 [==============================] - 0s 11ms/step - loss: 0.6929 - acc: 0.5594\n",
            "Epoch 68/100\n",
            "3/3 [==============================] - 0s 11ms/step - loss: 0.6927 - acc: 0.5922\n",
            "Epoch 69/100\n",
            "3/3 [==============================] - 0s 13ms/step - loss: 0.6926 - acc: 0.5680\n",
            "Epoch 70/100\n",
            "3/3 [==============================] - 0s 11ms/step - loss: 0.6926 - acc: 0.4844\n",
            "Epoch 71/100\n",
            "3/3 [==============================] - 0s 12ms/step - loss: 0.6929 - acc: 0.4844\n",
            "Epoch 72/100\n",
            "3/3 [==============================] - 0s 11ms/step - loss: 0.6927 - acc: 0.4922\n",
            "Epoch 73/100\n",
            "3/3 [==============================] - 0s 11ms/step - loss: 0.6920 - acc: 0.5039\n",
            "Epoch 74/100\n",
            "3/3 [==============================] - 0s 12ms/step - loss: 0.6912 - acc: 0.5078\n",
            "Epoch 75/100\n",
            "3/3 [==============================] - 0s 11ms/step - loss: 0.6907 - acc: 0.5039\n",
            "Epoch 76/100\n",
            "3/3 [==============================] - 0s 11ms/step - loss: 0.6890 - acc: 0.5156\n",
            "Epoch 77/100\n",
            "3/3 [==============================] - 0s 11ms/step - loss: 0.6867 - acc: 0.5195\n",
            "Epoch 78/100\n",
            "3/3 [==============================] - 0s 12ms/step - loss: 0.6948 - acc: 0.4492\n",
            "Epoch 79/100\n",
            "3/3 [==============================] - 0s 12ms/step - loss: 0.6921 - acc: 0.5039\n",
            "Epoch 80/100\n",
            "3/3 [==============================] - 0s 11ms/step - loss: 0.6827 - acc: 0.5906\n",
            "Epoch 81/100\n",
            "3/3 [==============================] - 0s 11ms/step - loss: 0.6854 - acc: 0.4961\n",
            "Epoch 82/100\n",
            "3/3 [==============================] - 0s 11ms/step - loss: 0.6662 - acc: 0.6562\n",
            "Epoch 83/100\n",
            "3/3 [==============================] - 0s 11ms/step - loss: 0.6602 - acc: 0.6117\n",
            "Epoch 84/100\n",
            "3/3 [==============================] - 0s 11ms/step - loss: 0.6566 - acc: 0.6141\n",
            "Epoch 85/100\n",
            "3/3 [==============================] - 0s 13ms/step - loss: 0.6729 - acc: 0.5867\n",
            "Epoch 86/100\n",
            "3/3 [==============================] - 0s 11ms/step - loss: 0.7312 - acc: 0.5156\n",
            "Epoch 87/100\n",
            "3/3 [==============================] - 0s 13ms/step - loss: 0.6904 - acc: 0.5000\n",
            "Epoch 88/100\n",
            "3/3 [==============================] - 0s 11ms/step - loss: 0.6970 - acc: 0.4328\n",
            "Epoch 89/100\n",
            "3/3 [==============================] - 0s 11ms/step - loss: 0.6918 - acc: 0.5000\n",
            "Epoch 90/100\n",
            "3/3 [==============================] - 0s 11ms/step - loss: 0.6931 - acc: 0.5000\n",
            "Epoch 91/100\n",
            "3/3 [==============================] - 0s 11ms/step - loss: 0.6934 - acc: 0.4688\n",
            "Epoch 92/100\n",
            "3/3 [==============================] - 0s 12ms/step - loss: 0.6933 - acc: 0.4688\n",
            "Epoch 93/100\n",
            "3/3 [==============================] - 0s 11ms/step - loss: 0.6935 - acc: 0.4727\n",
            "Epoch 94/100\n",
            "3/3 [==============================] - 0s 12ms/step - loss: 0.6930 - acc: 0.5156\n",
            "Epoch 95/100\n",
            "3/3 [==============================] - 0s 12ms/step - loss: 0.6932 - acc: 0.5039\n",
            "Epoch 96/100\n",
            "3/3 [==============================] - 0s 12ms/step - loss: 0.6930 - acc: 0.5078\n",
            "Epoch 97/100\n",
            "3/3 [==============================] - 0s 11ms/step - loss: 0.6923 - acc: 0.5234\n",
            "Epoch 98/100\n",
            "3/3 [==============================] - 0s 11ms/step - loss: 0.6955 - acc: 0.3992\n",
            "Epoch 99/100\n",
            "3/3 [==============================] - 0s 11ms/step - loss: 0.6947 - acc: 0.4547\n",
            "Epoch 100/100\n",
            "3/3 [==============================] - 0s 12ms/step - loss: 0.6934 - acc: 0.5312\n"
          ],
          "name": "stdout"
        }
      ]
    },
    {
      "cell_type": "code",
      "metadata": {
        "colab": {
          "base_uri": "https://localhost:8080/",
          "height": 290
        },
        "id": "lIaQ6SsZF1Kz",
        "outputId": "85c85aa1-9e75-4b14-cc60-432894a8f4ed"
      },
      "source": [
        "plt.semilogx(history.history[\"lr\"], history.history[\"loss\"])\n",
        "#plt.axis([1e-8, 1e-4, 0, 30])\n"
      ],
      "execution_count": null,
      "outputs": [
        {
          "output_type": "execute_result",
          "data": {
            "text/plain": [
              "[<matplotlib.lines.Line2D at 0x7f73ea57c910>]"
            ]
          },
          "metadata": {
            "tags": []
          },
          "execution_count": 65
        },
        {
          "output_type": "display_data",
          "data": {
            "image/png": "[encoded data removed]",
            "text/plain": [
              "<Figure size 432x288 with 1 Axes>"
            ]
          },
          "metadata": {
            "tags": [],
            "needs_background": "light"
          }
        }
      ]
    },
    {
      "cell_type": "code",
      "metadata": {
        "id": "1Vf1QmEgDV-C",
        "colab": {
          "base_uri": "https://localhost:8080/"
        },
        "outputId": "f906edbe-f054-4862-f5ea-4cbb2fe44461"
      },
      "source": [
        "model = tf.keras.models.Sequential([\n",
        "  Bidirectional(tf.keras.layers.LSTM(2, return_sequences=True), input_shape=(x_TRAIN.shape[1],x_TRAIN.shape[2]) ),\n",
        "  Bidirectional(tf.keras.layers.LSTM(2, return_sequences=True)),\n",
        "  Bidirectional(tf.keras.layers.LSTM(2)),\n",
        "  tf.keras.layers.Dense(1, activation = sigmoid),\n",
        "])\n",
        "\n",
        "model.summary()"
      ],
      "execution_count": null,
      "outputs": [
        {
          "output_type": "stream",
          "text": [
            "Model: \"sequential_8\"\n",
            "_________________________________________________________________\n",
            "Layer (type)                 Output Shape              Param #   \n",
            "=================================================================\n",
            "bidirectional_24 (Bidirectio (None, 3, 4)              1072      \n",
            "_________________________________________________________________\n",
            "bidirectional_25 (Bidirectio (None, 3, 4)              112       \n",
            "_________________________________________________________________\n",
            "bidirectional_26 (Bidirectio (None, 4)                 112       \n",
            "_________________________________________________________________\n",
            "dense_8 (Dense)              (None, 1)                 5         \n",
            "=================================================================\n",
            "Total params: 1,301\n",
            "Trainable params: 1,301\n",
            "Non-trainable params: 0\n",
            "_________________________________________________________________\n"
          ],
          "name": "stdout"
        }
      ]
    },
    {
      "cell_type": "code",
      "metadata": {
        "colab": {
          "base_uri": "https://localhost:8080/"
        },
        "id": "mnhFjdNaFPd0",
        "outputId": "9f5cc417-1182-4089-daec-20d772c747cb"
      },
      "source": [
        "optimizer = tf.keras.optimizers.Adam(lr=2e-3)\n",
        "model.compile(loss='binary_crossentropy',\n",
        "              optimizer=optimizer,\n",
        "              metrics=[\"acc\"])\n",
        "# Early stopping\n",
        "stopping = EarlyStopping(monitor='val_loss',min_delta=0,mode='auto',patience=20, restore_best_weights=True)\n",
        "\n",
        "history = model.fit(x_TRAIN, y_TRAIN_orig, callbacks=[stopping] , validation_data = (x_test, y_test_orig), epochs=2000)\n"
      ],
      "execution_count": null,
      "outputs": [
        {
          "output_type": "stream",
          "text": [
            "Epoch 1/2000\n",
            "3/3 [==============================] - 9s 832ms/step - loss: 0.6936 - acc: 0.3914 - val_loss: 0.6932 - val_acc: 0.4875\n",
            "Epoch 2/2000\n",
            "3/3 [==============================] - 0s 30ms/step - loss: 0.6932 - acc: 0.4617 - val_loss: 0.6932 - val_acc: 0.4875\n",
            "Epoch 3/2000\n",
            "3/3 [==============================] - 0s 30ms/step - loss: 0.6932 - acc: 0.4961 - val_loss: 0.6931 - val_acc: 0.5125\n",
            "Epoch 4/2000\n",
            "3/3 [==============================] - 0s 31ms/step - loss: 0.6934 - acc: 0.4508 - val_loss: 0.6930 - val_acc: 0.5125\n",
            "Epoch 5/2000\n",
            "3/3 [==============================] - 0s 30ms/step - loss: 0.6931 - acc: 0.4922 - val_loss: 0.6930 - val_acc: 0.5000\n",
            "Epoch 6/2000\n",
            "3/3 [==============================] - 0s 30ms/step - loss: 0.6933 - acc: 0.4648 - val_loss: 0.6929 - val_acc: 0.5000\n",
            "Epoch 7/2000\n",
            "3/3 [==============================] - 0s 29ms/step - loss: 0.6930 - acc: 0.4805 - val_loss: 0.6929 - val_acc: 0.5000\n",
            "Epoch 8/2000\n",
            "3/3 [==============================] - 0s 31ms/step - loss: 0.6929 - acc: 0.4883 - val_loss: 0.6928 - val_acc: 0.5000\n",
            "Epoch 9/2000\n",
            "3/3 [==============================] - 0s 30ms/step - loss: 0.6932 - acc: 0.4727 - val_loss: 0.6927 - val_acc: 0.5000\n",
            "Epoch 10/2000\n",
            "3/3 [==============================] - 0s 28ms/step - loss: 0.6933 - acc: 0.4727 - val_loss: 0.6927 - val_acc: 0.5000\n",
            "Epoch 11/2000\n",
            "3/3 [==============================] - 0s 29ms/step - loss: 0.6916 - acc: 0.5156 - val_loss: 0.6927 - val_acc: 0.5000\n",
            "Epoch 12/2000\n",
            "3/3 [==============================] - 0s 32ms/step - loss: 0.6939 - acc: 0.4609 - val_loss: 0.6926 - val_acc: 0.5000\n",
            "Epoch 13/2000\n",
            "3/3 [==============================] - 0s 31ms/step - loss: 0.6920 - acc: 0.5039 - val_loss: 0.6926 - val_acc: 0.5000\n",
            "Epoch 14/2000\n",
            "3/3 [==============================] - 0s 29ms/step - loss: 0.6925 - acc: 0.4883 - val_loss: 0.6924 - val_acc: 0.5000\n",
            "Epoch 15/2000\n",
            "3/3 [==============================] - 0s 28ms/step - loss: 0.6902 - acc: 0.5234 - val_loss: 0.6922 - val_acc: 0.5000\n",
            "Epoch 16/2000\n",
            "3/3 [==============================] - 0s 28ms/step - loss: 0.6908 - acc: 0.5156 - val_loss: 0.6920 - val_acc: 0.5000\n",
            "Epoch 17/2000\n",
            "3/3 [==============================] - 0s 29ms/step - loss: 0.6914 - acc: 0.5000 - val_loss: 0.6918 - val_acc: 0.5000\n",
            "Epoch 18/2000\n",
            "3/3 [==============================] - 0s 30ms/step - loss: 0.6917 - acc: 0.4922 - val_loss: 0.6916 - val_acc: 0.5000\n",
            "Epoch 19/2000\n",
            "3/3 [==============================] - 0s 29ms/step - loss: 0.6903 - acc: 0.5117 - val_loss: 0.6913 - val_acc: 0.5000\n",
            "Epoch 20/2000\n",
            "3/3 [==============================] - 0s 29ms/step - loss: 0.6896 - acc: 0.5234 - val_loss: 0.6911 - val_acc: 0.5250\n",
            "Epoch 21/2000\n",
            "3/3 [==============================] - 0s 29ms/step - loss: 0.6920 - acc: 0.4648 - val_loss: 0.6908 - val_acc: 0.5250\n",
            "Epoch 22/2000\n",
            "3/3 [==============================] - 0s 29ms/step - loss: 0.6906 - acc: 0.5000 - val_loss: 0.6905 - val_acc: 0.5375\n",
            "Epoch 23/2000\n",
            "3/3 [==============================] - 0s 29ms/step - loss: 0.6890 - acc: 0.4961 - val_loss: 0.6902 - val_acc: 0.5375\n",
            "Epoch 24/2000\n",
            "3/3 [==============================] - 0s 31ms/step - loss: 0.6889 - acc: 0.5180 - val_loss: 0.6900 - val_acc: 0.5500\n",
            "Epoch 25/2000\n",
            "3/3 [==============================] - 0s 29ms/step - loss: 0.6890 - acc: 0.5398 - val_loss: 0.6897 - val_acc: 0.5500\n",
            "Epoch 26/2000\n",
            "3/3 [==============================] - 0s 32ms/step - loss: 0.6888 - acc: 0.5164 - val_loss: 0.6894 - val_acc: 0.5500\n",
            "Epoch 27/2000\n",
            "3/3 [==============================] - 0s 35ms/step - loss: 0.6888 - acc: 0.5211 - val_loss: 0.6891 - val_acc: 0.5500\n",
            "Epoch 28/2000\n",
            "3/3 [==============================] - 0s 31ms/step - loss: 0.6906 - acc: 0.4812 - val_loss: 0.6890 - val_acc: 0.5375\n",
            "Epoch 29/2000\n",
            "3/3 [==============================] - 0s 30ms/step - loss: 0.6879 - acc: 0.4984 - val_loss: 0.6890 - val_acc: 0.5375\n",
            "Epoch 30/2000\n",
            "3/3 [==============================] - 0s 29ms/step - loss: 0.6894 - acc: 0.4906 - val_loss: 0.6885 - val_acc: 0.5375\n",
            "Epoch 31/2000\n",
            "3/3 [==============================] - 0s 30ms/step - loss: 0.6901 - acc: 0.4867 - val_loss: 0.6880 - val_acc: 0.5375\n",
            "Epoch 32/2000\n",
            "3/3 [==============================] - 0s 28ms/step - loss: 0.6843 - acc: 0.5242 - val_loss: 0.6872 - val_acc: 0.5500\n",
            "Epoch 33/2000\n",
            "3/3 [==============================] - 0s 29ms/step - loss: 0.6870 - acc: 0.5070 - val_loss: 0.6863 - val_acc: 0.5375\n",
            "Epoch 34/2000\n",
            "3/3 [==============================] - 0s 32ms/step - loss: 0.6801 - acc: 0.5773 - val_loss: 0.6861 - val_acc: 0.5375\n",
            "Epoch 35/2000\n",
            "3/3 [==============================] - 0s 32ms/step - loss: 0.6853 - acc: 0.5336 - val_loss: 0.6844 - val_acc: 0.5375\n",
            "Epoch 36/2000\n",
            "3/3 [==============================] - 0s 32ms/step - loss: 0.6806 - acc: 0.5867 - val_loss: 0.6831 - val_acc: 0.5500\n",
            "Epoch 37/2000\n",
            "3/3 [==============================] - 0s 30ms/step - loss: 0.6765 - acc: 0.6203 - val_loss: 0.6819 - val_acc: 0.5750\n",
            "Epoch 38/2000\n",
            "3/3 [==============================] - 0s 31ms/step - loss: 0.6780 - acc: 0.6617 - val_loss: 0.6809 - val_acc: 0.6000\n",
            "Epoch 39/2000\n",
            "3/3 [==============================] - 0s 30ms/step - loss: 0.6791 - acc: 0.6430 - val_loss: 0.6798 - val_acc: 0.6125\n",
            "Epoch 40/2000\n",
            "3/3 [==============================] - 0s 32ms/step - loss: 0.6764 - acc: 0.6508 - val_loss: 0.6801 - val_acc: 0.5625\n",
            "Epoch 41/2000\n",
            "3/3 [==============================] - 0s 30ms/step - loss: 0.6772 - acc: 0.5656 - val_loss: 0.6795 - val_acc: 0.5625\n",
            "Epoch 42/2000\n",
            "3/3 [==============================] - 0s 29ms/step - loss: 0.6650 - acc: 0.6242 - val_loss: 0.6782 - val_acc: 0.5750\n",
            "Epoch 43/2000\n",
            "3/3 [==============================] - 0s 29ms/step - loss: 0.6634 - acc: 0.6289 - val_loss: 0.6770 - val_acc: 0.6000\n",
            "Epoch 44/2000\n",
            "3/3 [==============================] - 0s 28ms/step - loss: 0.6597 - acc: 0.6750 - val_loss: 0.6754 - val_acc: 0.6000\n",
            "Epoch 45/2000\n",
            "3/3 [==============================] - 0s 30ms/step - loss: 0.6648 - acc: 0.6672 - val_loss: 0.6733 - val_acc: 0.6125\n",
            "Epoch 46/2000\n",
            "3/3 [==============================] - 0s 29ms/step - loss: 0.6691 - acc: 0.5977 - val_loss: 0.6728 - val_acc: 0.6125\n",
            "Epoch 47/2000\n",
            "3/3 [==============================] - 0s 30ms/step - loss: 0.6608 - acc: 0.6414 - val_loss: 0.6725 - val_acc: 0.6000\n",
            "Epoch 48/2000\n",
            "3/3 [==============================] - 0s 30ms/step - loss: 0.6647 - acc: 0.6359 - val_loss: 0.6717 - val_acc: 0.6000\n",
            "Epoch 49/2000\n",
            "3/3 [==============================] - 0s 33ms/step - loss: 0.6532 - acc: 0.6102 - val_loss: 0.6792 - val_acc: 0.5500\n",
            "Epoch 50/2000\n",
            "3/3 [==============================] - 0s 29ms/step - loss: 0.6569 - acc: 0.5852 - val_loss: 0.6753 - val_acc: 0.5625\n",
            "Epoch 51/2000\n",
            "3/3 [==============================] - 0s 31ms/step - loss: 0.6580 - acc: 0.6336 - val_loss: 0.6694 - val_acc: 0.6125\n",
            "Epoch 52/2000\n",
            "3/3 [==============================] - 0s 28ms/step - loss: 0.6432 - acc: 0.6695 - val_loss: 0.6661 - val_acc: 0.6000\n",
            "Epoch 53/2000\n",
            "3/3 [==============================] - 0s 36ms/step - loss: 0.6388 - acc: 0.6797 - val_loss: 0.6624 - val_acc: 0.6000\n",
            "Epoch 54/2000\n",
            "3/3 [==============================] - 0s 31ms/step - loss: 0.6474 - acc: 0.6438 - val_loss: 0.6600 - val_acc: 0.6250\n",
            "Epoch 55/2000\n",
            "3/3 [==============================] - 0s 29ms/step - loss: 0.6301 - acc: 0.7031 - val_loss: 0.6597 - val_acc: 0.6000\n",
            "Epoch 56/2000\n",
            "3/3 [==============================] - 0s 29ms/step - loss: 0.6382 - acc: 0.6562 - val_loss: 0.6650 - val_acc: 0.6000\n",
            "Epoch 57/2000\n",
            "3/3 [==============================] - 0s 28ms/step - loss: 0.6321 - acc: 0.7227 - val_loss: 0.6786 - val_acc: 0.5625\n",
            "Epoch 58/2000\n",
            "3/3 [==============================] - 0s 30ms/step - loss: 0.6196 - acc: 0.7102 - val_loss: 0.6577 - val_acc: 0.6125\n",
            "Epoch 59/2000\n",
            "3/3 [==============================] - 0s 30ms/step - loss: 0.6075 - acc: 0.6852 - val_loss: 0.6530 - val_acc: 0.6125\n",
            "Epoch 60/2000\n",
            "3/3 [==============================] - 0s 39ms/step - loss: 0.6155 - acc: 0.7031 - val_loss: 0.6527 - val_acc: 0.6250\n",
            "Epoch 61/2000\n",
            "3/3 [==============================] - 0s 32ms/step - loss: 0.6125 - acc: 0.7180 - val_loss: 0.6711 - val_acc: 0.5875\n",
            "Epoch 62/2000\n",
            "3/3 [==============================] - 0s 30ms/step - loss: 0.6163 - acc: 0.7180 - val_loss: 0.6649 - val_acc: 0.5875\n",
            "Epoch 63/2000\n",
            "3/3 [==============================] - 0s 30ms/step - loss: 0.5971 - acc: 0.6914 - val_loss: 0.6480 - val_acc: 0.6125\n",
            "Epoch 64/2000\n",
            "3/3 [==============================] - 0s 31ms/step - loss: 0.5950 - acc: 0.7258 - val_loss: 0.6555 - val_acc: 0.6125\n",
            "Epoch 65/2000\n",
            "3/3 [==============================] - 0s 30ms/step - loss: 0.5803 - acc: 0.7328 - val_loss: 0.6532 - val_acc: 0.6125\n",
            "Epoch 66/2000\n",
            "3/3 [==============================] - 0s 32ms/step - loss: 0.5554 - acc: 0.8133 - val_loss: 0.6528 - val_acc: 0.6375\n",
            "Epoch 67/2000\n",
            "3/3 [==============================] - 0s 30ms/step - loss: 0.5623 - acc: 0.7688 - val_loss: 0.6685 - val_acc: 0.6000\n",
            "Epoch 68/2000\n",
            "3/3 [==============================] - 0s 29ms/step - loss: 0.5355 - acc: 0.7836 - val_loss: 0.6575 - val_acc: 0.6125\n",
            "Epoch 69/2000\n",
            "3/3 [==============================] - 0s 31ms/step - loss: 0.5479 - acc: 0.7688 - val_loss: 0.6551 - val_acc: 0.6375\n",
            "Epoch 70/2000\n",
            "3/3 [==============================] - 0s 29ms/step - loss: 0.5335 - acc: 0.8039 - val_loss: 0.6567 - val_acc: 0.6250\n",
            "Epoch 71/2000\n",
            "3/3 [==============================] - 0s 31ms/step - loss: 0.5257 - acc: 0.7844 - val_loss: 0.6529 - val_acc: 0.6500\n",
            "Epoch 72/2000\n",
            "3/3 [==============================] - 0s 30ms/step - loss: 0.5433 - acc: 0.7227 - val_loss: 0.6759 - val_acc: 0.5750\n",
            "Epoch 73/2000\n",
            "3/3 [==============================] - 0s 32ms/step - loss: 0.5106 - acc: 0.8164 - val_loss: 0.6614 - val_acc: 0.6250\n",
            "Epoch 74/2000\n",
            "3/3 [==============================] - 0s 31ms/step - loss: 0.4972 - acc: 0.8086 - val_loss: 0.6860 - val_acc: 0.5875\n",
            "Epoch 75/2000\n",
            "3/3 [==============================] - 0s 29ms/step - loss: 0.4738 - acc: 0.8195 - val_loss: 0.6718 - val_acc: 0.6250\n",
            "Epoch 76/2000\n",
            "3/3 [==============================] - 0s 31ms/step - loss: 0.4881 - acc: 0.7461 - val_loss: 0.6644 - val_acc: 0.6250\n",
            "Epoch 77/2000\n",
            "3/3 [==============================] - 0s 33ms/step - loss: 0.5143 - acc: 0.7266 - val_loss: 0.7184 - val_acc: 0.5500\n",
            "Epoch 78/2000\n",
            "3/3 [==============================] - 0s 33ms/step - loss: 0.4725 - acc: 0.8008 - val_loss: 0.6728 - val_acc: 0.6500\n",
            "Epoch 79/2000\n",
            "3/3 [==============================] - 0s 33ms/step - loss: 0.4615 - acc: 0.8187 - val_loss: 0.6815 - val_acc: 0.6375\n",
            "Epoch 80/2000\n",
            "3/3 [==============================] - 0s 29ms/step - loss: 0.4694 - acc: 0.8078 - val_loss: 0.7213 - val_acc: 0.5625\n",
            "Epoch 81/2000\n",
            "3/3 [==============================] - 0s 29ms/step - loss: 0.4502 - acc: 0.7969 - val_loss: 0.6849 - val_acc: 0.6375\n",
            "Epoch 82/2000\n",
            "3/3 [==============================] - 0s 30ms/step - loss: 0.4593 - acc: 0.7906 - val_loss: 0.7078 - val_acc: 0.6375\n",
            "Epoch 83/2000\n",
            "3/3 [==============================] - 0s 29ms/step - loss: 0.4319 - acc: 0.8328 - val_loss: 0.7362 - val_acc: 0.5625\n"
          ],
          "name": "stdout"
        }
      ]
    },
    {
      "cell_type": "code",
      "metadata": {
        "id": "Zh9EfuLnMyeo",
        "colab": {
          "base_uri": "https://localhost:8080/",
          "height": 573
        },
        "outputId": "f4e9b452-c845-4a2b-bd0d-e0b3b49fd622"
      },
      "source": [
        "figure(history, ['train', 'test'])"
      ],
      "execution_count": null,
      "outputs": [
        {
          "output_type": "display_data",
          "data": {
            "image/png": "[encoded data removed]",
            "text/plain": [
              "<Figure size 432x288 with 1 Axes>"
            ]
          },
          "metadata": {
            "tags": [],
            "needs_background": "light"
          }
        },
        {
          "output_type": "display_data",
          "data": {
            "image/png": "[encoded data removed]",
            "text/plain": [
              "<Figure size 432x288 with 1 Axes>"
            ]
          },
          "metadata": {
            "tags": [],
            "needs_background": "light"
          }
        }
      ]
    },
    {
      "cell_type": "code",
      "metadata": {
        "id": "rJov7oCrOf3-",
        "colab": {
          "base_uri": "https://localhost:8080/",
          "height": 356
        },
        "outputId": "3a2f7dcd-e662-4583-e766-143a7f589eb2"
      },
      "source": [
        "plt.plot(model.predict_classes(x_test))\n",
        "plt.plot(y_test_orig)\n",
        "model.evaluate(x_test, y_test_orig)"
      ],
      "execution_count": null,
      "outputs": [
        {
          "output_type": "stream",
          "text": [
            "/usr/local/lib/python3.7/dist-packages/tensorflow/python/keras/engine/sequential.py:450: UserWarning: `model.predict_classes()` is deprecated and will be removed after 2021-01-01. Please use instead:* `np.argmax(model.predict(x), axis=-1)`,   if your model does multi-class classification   (e.g. if it uses a `softmax` last-layer activation).* `(model.predict(x) > 0.5).astype(\"int32\")`,   if your model does binary classification   (e.g. if it uses a `sigmoid` last-layer activation).\n",
            "  warnings.warn('`model.predict_classes()` is deprecated and '\n"
          ],
          "name": "stderr"
        },
        {
          "output_type": "stream",
          "text": [
            "3/3 [==============================] - 0s 6ms/step - loss: 0.6480 - acc: 0.6125\n"
          ],
          "name": "stdout"
        },
        {
          "output_type": "execute_result",
          "data": {
            "text/plain": [
              "[0.6479713916778564, 0.612500011920929]"
            ]
          },
          "metadata": {
            "tags": []
          },
          "execution_count": 69
        },
        {
          "output_type": "display_data",
          "data": {
            "image/png": "[encoded data removed]",
            "text/plain": [
              "<Figure size 432x288 with 1 Axes>"
            ]
          },
          "metadata": {
            "tags": [],
            "needs_background": "light"
          }
        }
      ]
    },
    {
      "cell_type": "code",
      "metadata": {
        "id": "tH5IKjf0eNVc"
      },
      "source": [
        ""
      ],
      "execution_count": null,
      "outputs": []
    }
  ]
}